{
 "cells": [
  {
   "cell_type": "code",
   "execution_count": 4,
   "id": "c5c582ec-bd3c-4274-9cc2-9cb5b6e06de5",
   "metadata": {},
   "outputs": [],
   "source": [
    "import requests\n",
    "import pandas as pd\n",
    "import geopandas as gpd"
   ]
  },
  {
   "cell_type": "code",
   "execution_count": 5,
   "id": "4aba0bcd-0411-4aab-818b-9e8af709b9e2",
   "metadata": {},
   "outputs": [],
   "source": [
    "import zipfile\n",
    "import os"
   ]
  },
  {
   "cell_type": "code",
   "execution_count": 8,
   "id": "4a65a148-ad99-4b3a-9c43-beb7266b6a94",
   "metadata": {},
   "outputs": [],
   "source": [
    "folder_path = 'D:\\\\qing_research\\\\1_rainfall_water\\\\1_rainfall_water_network\\\\data\\\\Anglian_water\\\\Anglian Water data\\\\TSD'"
   ]
  },
  {
   "cell_type": "code",
   "execution_count": 9,
   "id": "d48bcca1-1a7f-401d-8494-456bd1ed57cb",
   "metadata": {},
   "outputs": [
    {
     "name": "stdout",
     "output_type": "stream",
     "text": [
      "Extracted 2020-Q1-LCC.zip to D:\\qing_research\\1_rainfall_water\\1_rainfall_water_network\\data\\Anglian_water\\Anglian Water data\\TSD\\2020-Q1-LCC\n",
      "Extracted 2020-Q1.zip to D:\\qing_research\\1_rainfall_water\\1_rainfall_water_network\\data\\Anglian_water\\Anglian Water data\\TSD\\2020-Q1\n",
      "Extracted 2020-Q2-LCC.zip to D:\\qing_research\\1_rainfall_water\\1_rainfall_water_network\\data\\Anglian_water\\Anglian Water data\\TSD\\2020-Q2-LCC\n",
      "Extracted 2020-Q2.zip to D:\\qing_research\\1_rainfall_water\\1_rainfall_water_network\\data\\Anglian_water\\Anglian Water data\\TSD\\2020-Q2\n",
      "Extracted 2020-Q3-LCC.zip to D:\\qing_research\\1_rainfall_water\\1_rainfall_water_network\\data\\Anglian_water\\Anglian Water data\\TSD\\2020-Q3-LCC\n",
      "Extracted 2020-Q3.zip to D:\\qing_research\\1_rainfall_water\\1_rainfall_water_network\\data\\Anglian_water\\Anglian Water data\\TSD\\2020-Q3\n",
      "Extracted 2020-Q4-LCC.zip to D:\\qing_research\\1_rainfall_water\\1_rainfall_water_network\\data\\Anglian_water\\Anglian Water data\\TSD\\2020-Q4-LCC\n",
      "Extracted 2020-Q4.zip to D:\\qing_research\\1_rainfall_water\\1_rainfall_water_network\\data\\Anglian_water\\Anglian Water data\\TSD\\2020-Q4\n",
      "Extracted 2021-Q1-LCC.zip to D:\\qing_research\\1_rainfall_water\\1_rainfall_water_network\\data\\Anglian_water\\Anglian Water data\\TSD\\2021-Q1-LCC\n",
      "Extracted 2021-Q1.zip to D:\\qing_research\\1_rainfall_water\\1_rainfall_water_network\\data\\Anglian_water\\Anglian Water data\\TSD\\2021-Q1\n",
      "Extracted 2021-Q2-LCC.zip to D:\\qing_research\\1_rainfall_water\\1_rainfall_water_network\\data\\Anglian_water\\Anglian Water data\\TSD\\2021-Q2-LCC\n",
      "Extracted 2021-Q2.zip to D:\\qing_research\\1_rainfall_water\\1_rainfall_water_network\\data\\Anglian_water\\Anglian Water data\\TSD\\2021-Q2\n",
      "Extracted 2021-Q3-LCC.zip to D:\\qing_research\\1_rainfall_water\\1_rainfall_water_network\\data\\Anglian_water\\Anglian Water data\\TSD\\2021-Q3-LCC\n",
      "Extracted 2021-Q3.zip to D:\\qing_research\\1_rainfall_water\\1_rainfall_water_network\\data\\Anglian_water\\Anglian Water data\\TSD\\2021-Q3\n",
      "Extracted 2021-Q4-LCC.zip to D:\\qing_research\\1_rainfall_water\\1_rainfall_water_network\\data\\Anglian_water\\Anglian Water data\\TSD\\2021-Q4-LCC\n",
      "Extracted 2021-Q4.zip to D:\\qing_research\\1_rainfall_water\\1_rainfall_water_network\\data\\Anglian_water\\Anglian Water data\\TSD\\2021-Q4\n",
      "Extracted 2022-Q1-LCC.zip to D:\\qing_research\\1_rainfall_water\\1_rainfall_water_network\\data\\Anglian_water\\Anglian Water data\\TSD\\2022-Q1-LCC\n",
      "Extracted 2022-Q1.zip to D:\\qing_research\\1_rainfall_water\\1_rainfall_water_network\\data\\Anglian_water\\Anglian Water data\\TSD\\2022-Q1\n",
      "Extracted 2022-Q2-LCC.zip to D:\\qing_research\\1_rainfall_water\\1_rainfall_water_network\\data\\Anglian_water\\Anglian Water data\\TSD\\2022-Q2-LCC\n",
      "Extracted 2022-Q2.zip to D:\\qing_research\\1_rainfall_water\\1_rainfall_water_network\\data\\Anglian_water\\Anglian Water data\\TSD\\2022-Q2\n",
      "Extracted 2022-Q3-LCC.zip to D:\\qing_research\\1_rainfall_water\\1_rainfall_water_network\\data\\Anglian_water\\Anglian Water data\\TSD\\2022-Q3-LCC\n",
      "Extracted 2022-Q3.zip to D:\\qing_research\\1_rainfall_water\\1_rainfall_water_network\\data\\Anglian_water\\Anglian Water data\\TSD\\2022-Q3\n",
      "Extracted 2022-Q4-LCC.zip to D:\\qing_research\\1_rainfall_water\\1_rainfall_water_network\\data\\Anglian_water\\Anglian Water data\\TSD\\2022-Q4-LCC\n",
      "Extracted 2022-Q4.zip to D:\\qing_research\\1_rainfall_water\\1_rainfall_water_network\\data\\Anglian_water\\Anglian Water data\\TSD\\2022-Q4\n",
      "Extracted 2023-Q1-LCC.zip to D:\\qing_research\\1_rainfall_water\\1_rainfall_water_network\\data\\Anglian_water\\Anglian Water data\\TSD\\2023-Q1-LCC\n",
      "Extracted 2023-Q1.zip to D:\\qing_research\\1_rainfall_water\\1_rainfall_water_network\\data\\Anglian_water\\Anglian Water data\\TSD\\2023-Q1\n",
      "Extracted 2023-Q2-LCC.zip to D:\\qing_research\\1_rainfall_water\\1_rainfall_water_network\\data\\Anglian_water\\Anglian Water data\\TSD\\2023-Q2-LCC\n",
      "Extracted 2023-Q2.zip to D:\\qing_research\\1_rainfall_water\\1_rainfall_water_network\\data\\Anglian_water\\Anglian Water data\\TSD\\2023-Q2\n"
     ]
    }
   ],
   "source": [
    "for file_name in os.listdir(folder_path):\n",
    "    if file_name.endswith('.zip'):\n",
    "        file_path = os.path.join(folder_path, file_name)\n",
    "        extract_folder = os.path.join(folder_path,file_name.replace('.zip',''))\n",
    "        os.makedirs(extract_folder,exist_ok=True)\n",
    "        with zipfile.ZipFile(file_path, 'r') as zip_ref:\n",
    "            zip_ref.extractall(extract_folder)\n",
    "            print(f'Extracted {file_name} to {extract_folder}')"
   ]
  },
  {
   "cell_type": "code",
   "execution_count": 10,
   "id": "0c216f3c-7684-4328-a10e-3410a5738017",
   "metadata": {},
   "outputs": [],
   "source": [
    "folder_path = 'D:\\\\qing_research\\\\1_rainfall_water\\\\1_rainfall_water_network\\\\data\\\\Anglian_water\\\\Anglian Water data\\\\TSD\\\\30 day'"
   ]
  },
  {
   "cell_type": "code",
   "execution_count": 11,
   "id": "d9741ada-e608-4209-9b1f-971fb9d465ae",
   "metadata": {},
   "outputs": [
    {
     "name": "stdout",
     "output_type": "stream",
     "text": [
      "Extracted 2023-07-25 - 30 Day Extract.zip to D:\\qing_research\\1_rainfall_water\\1_rainfall_water_network\\data\\Anglian_water\\Anglian Water data\\TSD\\30 day\\2023-07-25 - 30 Day Extract\n",
      "Extracted 2023-08-01 - 30 Day Extract.zip to D:\\qing_research\\1_rainfall_water\\1_rainfall_water_network\\data\\Anglian_water\\Anglian Water data\\TSD\\30 day\\2023-08-01 - 30 Day Extract\n",
      "Extracted 2023-08-07 - 30 Day Extract.zip to D:\\qing_research\\1_rainfall_water\\1_rainfall_water_network\\data\\Anglian_water\\Anglian Water data\\TSD\\30 day\\2023-08-07 - 30 Day Extract\n",
      "Extracted 2023-08-14 - 30 Day Extract.zip to D:\\qing_research\\1_rainfall_water\\1_rainfall_water_network\\data\\Anglian_water\\Anglian Water data\\TSD\\30 day\\2023-08-14 - 30 Day Extract\n",
      "Extracted 2023-08-21 - 30 Day Extract.zip to D:\\qing_research\\1_rainfall_water\\1_rainfall_water_network\\data\\Anglian_water\\Anglian Water data\\TSD\\30 day\\2023-08-21 - 30 Day Extract\n",
      "Extracted 2023-08-30 - 30 Day Extract.zip to D:\\qing_research\\1_rainfall_water\\1_rainfall_water_network\\data\\Anglian_water\\Anglian Water data\\TSD\\30 day\\2023-08-30 - 30 Day Extract\n",
      "Extracted 2023-09-04 - 30 Day Extract.zip to D:\\qing_research\\1_rainfall_water\\1_rainfall_water_network\\data\\Anglian_water\\Anglian Water data\\TSD\\30 day\\2023-09-04 - 30 Day Extract\n",
      "Extracted 2023-09-13 - 30 Day Extract.zip to D:\\qing_research\\1_rainfall_water\\1_rainfall_water_network\\data\\Anglian_water\\Anglian Water data\\TSD\\30 day\\2023-09-13 - 30 Day Extract\n",
      "Extracted 2023-09-18 - 30 Day Extract.zip to D:\\qing_research\\1_rainfall_water\\1_rainfall_water_network\\data\\Anglian_water\\Anglian Water data\\TSD\\30 day\\2023-09-18 - 30 Day Extract\n",
      "Extracted 2023-09-25 - 30 Day Extract.zip to D:\\qing_research\\1_rainfall_water\\1_rainfall_water_network\\data\\Anglian_water\\Anglian Water data\\TSD\\30 day\\2023-09-25 - 30 Day Extract\n",
      "Extracted 2023-10-02 - 30 Day Extract.zip to D:\\qing_research\\1_rainfall_water\\1_rainfall_water_network\\data\\Anglian_water\\Anglian Water data\\TSD\\30 day\\2023-10-02 - 30 Day Extract\n",
      "Extracted 2023-10-10 - 30 Day Extract.zip to D:\\qing_research\\1_rainfall_water\\1_rainfall_water_network\\data\\Anglian_water\\Anglian Water data\\TSD\\30 day\\2023-10-10 - 30 Day Extract\n",
      "Extracted 2023-10-16 - 30 Day Extract.zip to D:\\qing_research\\1_rainfall_water\\1_rainfall_water_network\\data\\Anglian_water\\Anglian Water data\\TSD\\30 day\\2023-10-16 - 30 Day Extract\n",
      "Extracted 2023-10-24 - 30 Day Extract.zip to D:\\qing_research\\1_rainfall_water\\1_rainfall_water_network\\data\\Anglian_water\\Anglian Water data\\TSD\\30 day\\2023-10-24 - 30 Day Extract\n",
      "Extracted 2023-11-01 - 30 Day Extract.zip to D:\\qing_research\\1_rainfall_water\\1_rainfall_water_network\\data\\Anglian_water\\Anglian Water data\\TSD\\30 day\\2023-11-01 - 30 Day Extract\n",
      "Extracted 2023-11-06 - 30 Day Extract.zip to D:\\qing_research\\1_rainfall_water\\1_rainfall_water_network\\data\\Anglian_water\\Anglian Water data\\TSD\\30 day\\2023-11-06 - 30 Day Extract\n",
      "Extracted 2023-11-13 - 30 Day Extract.zip to D:\\qing_research\\1_rainfall_water\\1_rainfall_water_network\\data\\Anglian_water\\Anglian Water data\\TSD\\30 day\\2023-11-13 - 30 Day Extract\n",
      "Extracted 2023-11-20 - 30 Day Extract.zip to D:\\qing_research\\1_rainfall_water\\1_rainfall_water_network\\data\\Anglian_water\\Anglian Water data\\TSD\\30 day\\2023-11-20 - 30 Day Extract\n",
      "Extracted 2023-11-30 - 30 Day Extract.zip to D:\\qing_research\\1_rainfall_water\\1_rainfall_water_network\\data\\Anglian_water\\Anglian Water data\\TSD\\30 day\\2023-11-30 - 30 Day Extract\n",
      "Extracted 2023-12-04 - 30 Day Extract.zip to D:\\qing_research\\1_rainfall_water\\1_rainfall_water_network\\data\\Anglian_water\\Anglian Water data\\TSD\\30 day\\2023-12-04 - 30 Day Extract\n",
      "Extracted 2023-12-12 - 30 Day Extract.zip to D:\\qing_research\\1_rainfall_water\\1_rainfall_water_network\\data\\Anglian_water\\Anglian Water data\\TSD\\30 day\\2023-12-12 - 30 Day Extract\n",
      "Extracted 2023-12-18 - 30 Day Extract.zip to D:\\qing_research\\1_rainfall_water\\1_rainfall_water_network\\data\\Anglian_water\\Anglian Water data\\TSD\\30 day\\2023-12-18 - 30 Day Extract\n",
      "Extracted 2024-01-02 - 30 Day Extract.zip to D:\\qing_research\\1_rainfall_water\\1_rainfall_water_network\\data\\Anglian_water\\Anglian Water data\\TSD\\30 day\\2024-01-02 - 30 Day Extract\n",
      "Extracted 2024-01-08 - 30 Day Extract.zip to D:\\qing_research\\1_rainfall_water\\1_rainfall_water_network\\data\\Anglian_water\\Anglian Water data\\TSD\\30 day\\2024-01-08 - 30 Day Extract\n",
      "Extracted 2024-01-15 - 30 Day Extract.zip to D:\\qing_research\\1_rainfall_water\\1_rainfall_water_network\\data\\Anglian_water\\Anglian Water data\\TSD\\30 day\\2024-01-15 - 30 Day Extract\n",
      "Extracted 2024-01-22 - 30 Day Extract.zip to D:\\qing_research\\1_rainfall_water\\1_rainfall_water_network\\data\\Anglian_water\\Anglian Water data\\TSD\\30 day\\2024-01-22 - 30 Day Extract\n",
      "Extracted 2024-02-06 - 30 Day Extract.zip to D:\\qing_research\\1_rainfall_water\\1_rainfall_water_network\\data\\Anglian_water\\Anglian Water data\\TSD\\30 day\\2024-02-06 - 30 Day Extract\n",
      "Extracted 2024-02-12 - 30 Day Extract.zip to D:\\qing_research\\1_rainfall_water\\1_rainfall_water_network\\data\\Anglian_water\\Anglian Water data\\TSD\\30 day\\2024-02-12 - 30 Day Extract\n",
      "Extracted 2024-02-26 - 30 Day Extract.zip to D:\\qing_research\\1_rainfall_water\\1_rainfall_water_network\\data\\Anglian_water\\Anglian Water data\\TSD\\30 day\\2024-02-26 - 30 Day Extract\n",
      "Extracted 2024-03-04 - 30 Day Extract.zip to D:\\qing_research\\1_rainfall_water\\1_rainfall_water_network\\data\\Anglian_water\\Anglian Water data\\TSD\\30 day\\2024-03-04 - 30 Day Extract\n",
      "Extracted 2024-03-11 - 30 Day Extract.zip to D:\\qing_research\\1_rainfall_water\\1_rainfall_water_network\\data\\Anglian_water\\Anglian Water data\\TSD\\30 day\\2024-03-11 - 30 Day Extract\n",
      "Extracted 2024-03-19 - 30 Day Extract.zip to D:\\qing_research\\1_rainfall_water\\1_rainfall_water_network\\data\\Anglian_water\\Anglian Water data\\TSD\\30 day\\2024-03-19 - 30 Day Extract\n",
      "Extracted 2024-03-25 - 30 Day Extract.zip to D:\\qing_research\\1_rainfall_water\\1_rainfall_water_network\\data\\Anglian_water\\Anglian Water data\\TSD\\30 day\\2024-03-25 - 30 Day Extract\n",
      "Extracted 2024-04-02 - 30 Day Extract.zip to D:\\qing_research\\1_rainfall_water\\1_rainfall_water_network\\data\\Anglian_water\\Anglian Water data\\TSD\\30 day\\2024-04-02 - 30 Day Extract\n",
      "Extracted 2024-04-08 - 30 Day Extract.zip to D:\\qing_research\\1_rainfall_water\\1_rainfall_water_network\\data\\Anglian_water\\Anglian Water data\\TSD\\30 day\\2024-04-08 - 30 Day Extract\n",
      "Extracted 2024-04-17 - 30 Day Extract.zip to D:\\qing_research\\1_rainfall_water\\1_rainfall_water_network\\data\\Anglian_water\\Anglian Water data\\TSD\\30 day\\2024-04-17 - 30 Day Extract\n",
      "Extracted 2024-04-22 - 30 Day Extract.zip to D:\\qing_research\\1_rainfall_water\\1_rainfall_water_network\\data\\Anglian_water\\Anglian Water data\\TSD\\30 day\\2024-04-22 - 30 Day Extract\n",
      "Extracted 2024-04-29 - 30 Day Extract.zip to D:\\qing_research\\1_rainfall_water\\1_rainfall_water_network\\data\\Anglian_water\\Anglian Water data\\TSD\\30 day\\2024-04-29 - 30 Day Extract\n",
      "Extracted 2024-05-07 - 30 Day Extract.zip to D:\\qing_research\\1_rainfall_water\\1_rainfall_water_network\\data\\Anglian_water\\Anglian Water data\\TSD\\30 day\\2024-05-07 - 30 Day Extract\n",
      "Extracted 2024-05-15 - 30 Day Extract.zip to D:\\qing_research\\1_rainfall_water\\1_rainfall_water_network\\data\\Anglian_water\\Anglian Water data\\TSD\\30 day\\2024-05-15 - 30 Day Extract\n",
      "Extracted 2024-05-21 - 30 Day Extract.zip to D:\\qing_research\\1_rainfall_water\\1_rainfall_water_network\\data\\Anglian_water\\Anglian Water data\\TSD\\30 day\\2024-05-21 - 30 Day Extract\n",
      "Extracted 2024-05-30 - 30 Day Extract.zip to D:\\qing_research\\1_rainfall_water\\1_rainfall_water_network\\data\\Anglian_water\\Anglian Water data\\TSD\\30 day\\2024-05-30 - 30 Day Extract\n",
      "Extracted 2024-06-03 - 30 Day Extract.zip to D:\\qing_research\\1_rainfall_water\\1_rainfall_water_network\\data\\Anglian_water\\Anglian Water data\\TSD\\30 day\\2024-06-03 - 30 Day Extract\n",
      "Extracted 2024-06-10 - 30 Day Extract.zip to D:\\qing_research\\1_rainfall_water\\1_rainfall_water_network\\data\\Anglian_water\\Anglian Water data\\TSD\\30 day\\2024-06-10 - 30 Day Extract\n",
      "Extracted 2024-06-17 - 30 Day Extract.zip to D:\\qing_research\\1_rainfall_water\\1_rainfall_water_network\\data\\Anglian_water\\Anglian Water data\\TSD\\30 day\\2024-06-17 - 30 Day Extract\n",
      "Extracted 2024-06-25 - 30 Day Extract.zip to D:\\qing_research\\1_rainfall_water\\1_rainfall_water_network\\data\\Anglian_water\\Anglian Water data\\TSD\\30 day\\2024-06-25 - 30 Day Extract\n",
      "Extracted 2024-07-01 - 30 Day Extract.zip to D:\\qing_research\\1_rainfall_water\\1_rainfall_water_network\\data\\Anglian_water\\Anglian Water data\\TSD\\30 day\\2024-07-01 - 30 Day Extract\n",
      "Extracted 2024-07-08 - 30 Day Extract.zip to D:\\qing_research\\1_rainfall_water\\1_rainfall_water_network\\data\\Anglian_water\\Anglian Water data\\TSD\\30 day\\2024-07-08 - 30 Day Extract\n",
      "Extracted 2024-07-18 - 30 Day Extract.zip to D:\\qing_research\\1_rainfall_water\\1_rainfall_water_network\\data\\Anglian_water\\Anglian Water data\\TSD\\30 day\\2024-07-18 - 30 Day Extract\n",
      "Extracted 2024-07-22 - 30 Day Extract.zip to D:\\qing_research\\1_rainfall_water\\1_rainfall_water_network\\data\\Anglian_water\\Anglian Water data\\TSD\\30 day\\2024-07-22 - 30 Day Extract\n",
      "Extracted 2024-07-29 - 30 Day Extract.zip to D:\\qing_research\\1_rainfall_water\\1_rainfall_water_network\\data\\Anglian_water\\Anglian Water data\\TSD\\30 day\\2024-07-29 - 30 Day Extract\n",
      "Extracted 2024-08-05 - 30 Day Extract.zip to D:\\qing_research\\1_rainfall_water\\1_rainfall_water_network\\data\\Anglian_water\\Anglian Water data\\TSD\\30 day\\2024-08-05 - 30 Day Extract\n",
      "Extracted 2024-08-12 - 30 Day Extract.zip to D:\\qing_research\\1_rainfall_water\\1_rainfall_water_network\\data\\Anglian_water\\Anglian Water data\\TSD\\30 day\\2024-08-12 - 30 Day Extract\n",
      "Extracted 2024-08-19 - 30 Day Extract.zip to D:\\qing_research\\1_rainfall_water\\1_rainfall_water_network\\data\\Anglian_water\\Anglian Water data\\TSD\\30 day\\2024-08-19 - 30 Day Extract\n",
      "Extracted 2024-08-27 - 30 Day Extract.zip to D:\\qing_research\\1_rainfall_water\\1_rainfall_water_network\\data\\Anglian_water\\Anglian Water data\\TSD\\30 day\\2024-08-27 - 30 Day Extract\n",
      "Extracted 2024-09-02 - 30 Day Extract.zip to D:\\qing_research\\1_rainfall_water\\1_rainfall_water_network\\data\\Anglian_water\\Anglian Water data\\TSD\\30 day\\2024-09-02 - 30 Day Extract\n",
      "Extracted 2024-09-09 - 30 Day Extract.zip to D:\\qing_research\\1_rainfall_water\\1_rainfall_water_network\\data\\Anglian_water\\Anglian Water data\\TSD\\30 day\\2024-09-09 - 30 Day Extract\n",
      "Extracted 2024-09-16 - 30 Day Extract.zip to D:\\qing_research\\1_rainfall_water\\1_rainfall_water_network\\data\\Anglian_water\\Anglian Water data\\TSD\\30 day\\2024-09-16 - 30 Day Extract\n",
      "Extracted 2024-09-23 - 30 Day Extract.zip to D:\\qing_research\\1_rainfall_water\\1_rainfall_water_network\\data\\Anglian_water\\Anglian Water data\\TSD\\30 day\\2024-09-23 - 30 Day Extract\n",
      "Extracted 2024-09-30 - 30 Day Extract.zip to D:\\qing_research\\1_rainfall_water\\1_rainfall_water_network\\data\\Anglian_water\\Anglian Water data\\TSD\\30 day\\2024-09-30 - 30 Day Extract\n"
     ]
    },
    {
     "ename": "NotImplementedError",
     "evalue": "That compression method is not supported",
     "output_type": "error",
     "traceback": [
      "\u001b[1;31m---------------------------------------------------------------------------\u001b[0m",
      "\u001b[1;31mNotImplementedError\u001b[0m                       Traceback (most recent call last)",
      "Cell \u001b[1;32mIn[11], line 7\u001b[0m\n\u001b[0;32m      5\u001b[0m os\u001b[38;5;241m.\u001b[39mmakedirs(extract_folder,exist_ok\u001b[38;5;241m=\u001b[39m\u001b[38;5;28;01mTrue\u001b[39;00m)\n\u001b[0;32m      6\u001b[0m \u001b[38;5;28;01mwith\u001b[39;00m zipfile\u001b[38;5;241m.\u001b[39mZipFile(file_path, \u001b[38;5;124m'\u001b[39m\u001b[38;5;124mr\u001b[39m\u001b[38;5;124m'\u001b[39m) \u001b[38;5;28;01mas\u001b[39;00m zip_ref:\n\u001b[1;32m----> 7\u001b[0m     \u001b[43mzip_ref\u001b[49m\u001b[38;5;241;43m.\u001b[39;49m\u001b[43mextractall\u001b[49m\u001b[43m(\u001b[49m\u001b[43mextract_folder\u001b[49m\u001b[43m)\u001b[49m\n\u001b[0;32m      8\u001b[0m     \u001b[38;5;28mprint\u001b[39m(\u001b[38;5;124mf\u001b[39m\u001b[38;5;124m'\u001b[39m\u001b[38;5;124mExtracted \u001b[39m\u001b[38;5;132;01m{\u001b[39;00mfile_name\u001b[38;5;132;01m}\u001b[39;00m\u001b[38;5;124m to \u001b[39m\u001b[38;5;132;01m{\u001b[39;00mextract_folder\u001b[38;5;132;01m}\u001b[39;00m\u001b[38;5;124m'\u001b[39m)\n",
      "File \u001b[1;32m~\\AppData\\Local\\Programs\\Python\\Python312\\Lib\\zipfile\\__init__.py:1744\u001b[0m, in \u001b[0;36mZipFile.extractall\u001b[1;34m(self, path, members, pwd)\u001b[0m\n\u001b[0;32m   1741\u001b[0m     path \u001b[38;5;241m=\u001b[39m os\u001b[38;5;241m.\u001b[39mfspath(path)\n\u001b[0;32m   1743\u001b[0m \u001b[38;5;28;01mfor\u001b[39;00m zipinfo \u001b[38;5;129;01min\u001b[39;00m members:\n\u001b[1;32m-> 1744\u001b[0m     \u001b[38;5;28;43mself\u001b[39;49m\u001b[38;5;241;43m.\u001b[39;49m\u001b[43m_extract_member\u001b[49m\u001b[43m(\u001b[49m\u001b[43mzipinfo\u001b[49m\u001b[43m,\u001b[49m\u001b[43m \u001b[49m\u001b[43mpath\u001b[49m\u001b[43m,\u001b[49m\u001b[43m \u001b[49m\u001b[43mpwd\u001b[49m\u001b[43m)\u001b[49m\n",
      "File \u001b[1;32m~\\AppData\\Local\\Programs\\Python\\Python312\\Lib\\zipfile\\__init__.py:1800\u001b[0m, in \u001b[0;36mZipFile._extract_member\u001b[1;34m(self, member, targetpath, pwd)\u001b[0m\n\u001b[0;32m   1797\u001b[0m         os\u001b[38;5;241m.\u001b[39mmkdir(targetpath)\n\u001b[0;32m   1798\u001b[0m     \u001b[38;5;28;01mreturn\u001b[39;00m targetpath\n\u001b[1;32m-> 1800\u001b[0m \u001b[38;5;28;01mwith\u001b[39;00m \u001b[38;5;28;43mself\u001b[39;49m\u001b[38;5;241;43m.\u001b[39;49m\u001b[43mopen\u001b[49m\u001b[43m(\u001b[49m\u001b[43mmember\u001b[49m\u001b[43m,\u001b[49m\u001b[43m \u001b[49m\u001b[43mpwd\u001b[49m\u001b[38;5;241;43m=\u001b[39;49m\u001b[43mpwd\u001b[49m\u001b[43m)\u001b[49m \u001b[38;5;28;01mas\u001b[39;00m source, \\\n\u001b[0;32m   1801\u001b[0m      \u001b[38;5;28mopen\u001b[39m(targetpath, \u001b[38;5;124m\"\u001b[39m\u001b[38;5;124mwb\u001b[39m\u001b[38;5;124m\"\u001b[39m) \u001b[38;5;28;01mas\u001b[39;00m target:\n\u001b[0;32m   1802\u001b[0m     shutil\u001b[38;5;241m.\u001b[39mcopyfileobj(source, target)\n\u001b[0;32m   1804\u001b[0m \u001b[38;5;28;01mreturn\u001b[39;00m targetpath\n",
      "File \u001b[1;32m~\\AppData\\Local\\Programs\\Python\\Python312\\Lib\\zipfile\\__init__.py:1667\u001b[0m, in \u001b[0;36mZipFile.open\u001b[1;34m(self, name, mode, pwd, force_zip64)\u001b[0m\n\u001b[0;32m   1664\u001b[0m     \u001b[38;5;28;01melse\u001b[39;00m:\n\u001b[0;32m   1665\u001b[0m         pwd \u001b[38;5;241m=\u001b[39m \u001b[38;5;28;01mNone\u001b[39;00m\n\u001b[1;32m-> 1667\u001b[0m     \u001b[38;5;28;01mreturn\u001b[39;00m \u001b[43mZipExtFile\u001b[49m\u001b[43m(\u001b[49m\u001b[43mzef_file\u001b[49m\u001b[43m,\u001b[49m\u001b[43m \u001b[49m\u001b[43mmode\u001b[49m\u001b[43m,\u001b[49m\u001b[43m \u001b[49m\u001b[43mzinfo\u001b[49m\u001b[43m,\u001b[49m\u001b[43m \u001b[49m\u001b[43mpwd\u001b[49m\u001b[43m,\u001b[49m\u001b[43m \u001b[49m\u001b[38;5;28;43;01mTrue\u001b[39;49;00m\u001b[43m)\u001b[49m\n\u001b[0;32m   1668\u001b[0m \u001b[38;5;28;01mexcept\u001b[39;00m:\n\u001b[0;32m   1669\u001b[0m     zef_file\u001b[38;5;241m.\u001b[39mclose()\n",
      "File \u001b[1;32m~\\AppData\\Local\\Programs\\Python\\Python312\\Lib\\zipfile\\__init__.py:863\u001b[0m, in \u001b[0;36mZipExtFile.__init__\u001b[1;34m(self, fileobj, mode, zipinfo, pwd, close_fileobj)\u001b[0m\n\u001b[0;32m    860\u001b[0m \u001b[38;5;28mself\u001b[39m\u001b[38;5;241m.\u001b[39m_compress_left \u001b[38;5;241m=\u001b[39m zipinfo\u001b[38;5;241m.\u001b[39mcompress_size\n\u001b[0;32m    861\u001b[0m \u001b[38;5;28mself\u001b[39m\u001b[38;5;241m.\u001b[39m_left \u001b[38;5;241m=\u001b[39m zipinfo\u001b[38;5;241m.\u001b[39mfile_size\n\u001b[1;32m--> 863\u001b[0m \u001b[38;5;28mself\u001b[39m\u001b[38;5;241m.\u001b[39m_decompressor \u001b[38;5;241m=\u001b[39m \u001b[43m_get_decompressor\u001b[49m\u001b[43m(\u001b[49m\u001b[38;5;28;43mself\u001b[39;49m\u001b[38;5;241;43m.\u001b[39;49m\u001b[43m_compress_type\u001b[49m\u001b[43m)\u001b[49m\n\u001b[0;32m    865\u001b[0m \u001b[38;5;28mself\u001b[39m\u001b[38;5;241m.\u001b[39m_eof \u001b[38;5;241m=\u001b[39m \u001b[38;5;28;01mFalse\u001b[39;00m\n\u001b[0;32m    866\u001b[0m \u001b[38;5;28mself\u001b[39m\u001b[38;5;241m.\u001b[39m_readbuffer \u001b[38;5;241m=\u001b[39m \u001b[38;5;124mb\u001b[39m\u001b[38;5;124m'\u001b[39m\u001b[38;5;124m'\u001b[39m\n",
      "File \u001b[1;32m~\\AppData\\Local\\Programs\\Python\\Python312\\Lib\\zipfile\\__init__.py:762\u001b[0m, in \u001b[0;36m_get_decompressor\u001b[1;34m(compress_type)\u001b[0m\n\u001b[0;32m    761\u001b[0m \u001b[38;5;28;01mdef\u001b[39;00m \u001b[38;5;21m_get_decompressor\u001b[39m(compress_type):\n\u001b[1;32m--> 762\u001b[0m     \u001b[43m_check_compression\u001b[49m\u001b[43m(\u001b[49m\u001b[43mcompress_type\u001b[49m\u001b[43m)\u001b[49m\n\u001b[0;32m    763\u001b[0m     \u001b[38;5;28;01mif\u001b[39;00m compress_type \u001b[38;5;241m==\u001b[39m ZIP_STORED:\n\u001b[0;32m    764\u001b[0m         \u001b[38;5;28;01mreturn\u001b[39;00m \u001b[38;5;28;01mNone\u001b[39;00m\n",
      "File \u001b[1;32m~\\AppData\\Local\\Programs\\Python\\Python312\\Lib\\zipfile\\__init__.py:742\u001b[0m, in \u001b[0;36m_check_compression\u001b[1;34m(compression)\u001b[0m\n\u001b[0;32m    739\u001b[0m         \u001b[38;5;28;01mraise\u001b[39;00m \u001b[38;5;167;01mRuntimeError\u001b[39;00m(\n\u001b[0;32m    740\u001b[0m             \u001b[38;5;124m\"\u001b[39m\u001b[38;5;124mCompression requires the (missing) lzma module\u001b[39m\u001b[38;5;124m\"\u001b[39m)\n\u001b[0;32m    741\u001b[0m \u001b[38;5;28;01melse\u001b[39;00m:\n\u001b[1;32m--> 742\u001b[0m     \u001b[38;5;28;01mraise\u001b[39;00m \u001b[38;5;167;01mNotImplementedError\u001b[39;00m(\u001b[38;5;124m\"\u001b[39m\u001b[38;5;124mThat compression method is not supported\u001b[39m\u001b[38;5;124m\"\u001b[39m)\n",
      "\u001b[1;31mNotImplementedError\u001b[0m: That compression method is not supported"
     ]
    }
   ],
   "source": [
    "for file_name in os.listdir(folder_path):\n",
    "    if file_name.endswith('.zip'):\n",
    "        file_path = os.path.join(folder_path, file_name)\n",
    "        extract_folder = os.path.join(folder_path,file_name.replace('.zip',''))\n",
    "        os.makedirs(extract_folder,exist_ok=True)\n",
    "        with zipfile.ZipFile(file_path, 'r') as zip_ref:\n",
    "            zip_ref.extractall(extract_folder)\n",
    "            print(f'Extracted {file_name} to {extract_folder}')"
   ]
  },
  {
   "cell_type": "code",
   "execution_count": 12,
   "id": "57c2ba23-8b09-4811-b964-fbaac60a2367",
   "metadata": {},
   "outputs": [],
   "source": [
    "folder_path = 'D:\\\\qing_research\\\\1_rainfall_water\\\\1_rainfall_water_network\\\\data\\\\Anglian_water\\\\Anglian Water data\\\\TSD\\\\months'"
   ]
  },
  {
   "cell_type": "code",
   "execution_count": 13,
   "id": "a900043b-c192-42bc-b13c-7c40d2937af9",
   "metadata": {},
   "outputs": [
    {
     "name": "stdout",
     "output_type": "stream",
     "text": [
      "Extracted 2021-02.zip to D:\\qing_research\\1_rainfall_water\\1_rainfall_water_network\\data\\Anglian_water\\Anglian Water data\\TSD\\months\\2021-02\n",
      "Extracted 2021-03.zip to D:\\qing_research\\1_rainfall_water\\1_rainfall_water_network\\data\\Anglian_water\\Anglian Water data\\TSD\\months\\2021-03\n",
      "Extracted 2021-04.zip to D:\\qing_research\\1_rainfall_water\\1_rainfall_water_network\\data\\Anglian_water\\Anglian Water data\\TSD\\months\\2021-04\n",
      "Extracted 2021-05.zip to D:\\qing_research\\1_rainfall_water\\1_rainfall_water_network\\data\\Anglian_water\\Anglian Water data\\TSD\\months\\2021-05\n",
      "Extracted 2021-06.zip to D:\\qing_research\\1_rainfall_water\\1_rainfall_water_network\\data\\Anglian_water\\Anglian Water data\\TSD\\months\\2021-06\n",
      "Extracted 2021-07.zip to D:\\qing_research\\1_rainfall_water\\1_rainfall_water_network\\data\\Anglian_water\\Anglian Water data\\TSD\\months\\2021-07\n",
      "Extracted 2021-08.zip to D:\\qing_research\\1_rainfall_water\\1_rainfall_water_network\\data\\Anglian_water\\Anglian Water data\\TSD\\months\\2021-08\n",
      "Extracted 2021-09.zip to D:\\qing_research\\1_rainfall_water\\1_rainfall_water_network\\data\\Anglian_water\\Anglian Water data\\TSD\\months\\2021-09\n",
      "Extracted 2021-10.zip to D:\\qing_research\\1_rainfall_water\\1_rainfall_water_network\\data\\Anglian_water\\Anglian Water data\\TSD\\months\\2021-10\n",
      "Extracted 2021-11.zip to D:\\qing_research\\1_rainfall_water\\1_rainfall_water_network\\data\\Anglian_water\\Anglian Water data\\TSD\\months\\2021-11\n",
      "Extracted 2021-12.zip to D:\\qing_research\\1_rainfall_water\\1_rainfall_water_network\\data\\Anglian_water\\Anglian Water data\\TSD\\months\\2021-12\n",
      "Extracted 2022-01.zip to D:\\qing_research\\1_rainfall_water\\1_rainfall_water_network\\data\\Anglian_water\\Anglian Water data\\TSD\\months\\2022-01\n",
      "Extracted 2022-02.zip to D:\\qing_research\\1_rainfall_water\\1_rainfall_water_network\\data\\Anglian_water\\Anglian Water data\\TSD\\months\\2022-02\n",
      "Extracted 2022-03.zip to D:\\qing_research\\1_rainfall_water\\1_rainfall_water_network\\data\\Anglian_water\\Anglian Water data\\TSD\\months\\2022-03\n",
      "Extracted 2022-04.zip to D:\\qing_research\\1_rainfall_water\\1_rainfall_water_network\\data\\Anglian_water\\Anglian Water data\\TSD\\months\\2022-04\n",
      "Extracted 2022-05.zip to D:\\qing_research\\1_rainfall_water\\1_rainfall_water_network\\data\\Anglian_water\\Anglian Water data\\TSD\\months\\2022-05\n",
      "Extracted 2022-06.zip to D:\\qing_research\\1_rainfall_water\\1_rainfall_water_network\\data\\Anglian_water\\Anglian Water data\\TSD\\months\\2022-06\n",
      "Extracted 2022-07.zip to D:\\qing_research\\1_rainfall_water\\1_rainfall_water_network\\data\\Anglian_water\\Anglian Water data\\TSD\\months\\2022-07\n",
      "Extracted 2022-08.zip to D:\\qing_research\\1_rainfall_water\\1_rainfall_water_network\\data\\Anglian_water\\Anglian Water data\\TSD\\months\\2022-08\n",
      "Extracted 2022-09.zip to D:\\qing_research\\1_rainfall_water\\1_rainfall_water_network\\data\\Anglian_water\\Anglian Water data\\TSD\\months\\2022-09\n",
      "Extracted 2022-10.zip to D:\\qing_research\\1_rainfall_water\\1_rainfall_water_network\\data\\Anglian_water\\Anglian Water data\\TSD\\months\\2022-10\n",
      "Extracted 2022-11.zip to D:\\qing_research\\1_rainfall_water\\1_rainfall_water_network\\data\\Anglian_water\\Anglian Water data\\TSD\\months\\2022-11\n",
      "Extracted 2022-12.zip to D:\\qing_research\\1_rainfall_water\\1_rainfall_water_network\\data\\Anglian_water\\Anglian Water data\\TSD\\months\\2022-12\n",
      "Extracted 2023-01.zip to D:\\qing_research\\1_rainfall_water\\1_rainfall_water_network\\data\\Anglian_water\\Anglian Water data\\TSD\\months\\2023-01\n",
      "Extracted 2023-02.zip to D:\\qing_research\\1_rainfall_water\\1_rainfall_water_network\\data\\Anglian_water\\Anglian Water data\\TSD\\months\\2023-02\n",
      "Extracted 2023-03.zip to D:\\qing_research\\1_rainfall_water\\1_rainfall_water_network\\data\\Anglian_water\\Anglian Water data\\TSD\\months\\2023-03\n",
      "Extracted 2023-04.zip to D:\\qing_research\\1_rainfall_water\\1_rainfall_water_network\\data\\Anglian_water\\Anglian Water data\\TSD\\months\\2023-04\n",
      "Extracted 2023-05.zip to D:\\qing_research\\1_rainfall_water\\1_rainfall_water_network\\data\\Anglian_water\\Anglian Water data\\TSD\\months\\2023-05\n",
      "Extracted 2023-06.zip to D:\\qing_research\\1_rainfall_water\\1_rainfall_water_network\\data\\Anglian_water\\Anglian Water data\\TSD\\months\\2023-06\n",
      "Extracted 2023-07.zip to D:\\qing_research\\1_rainfall_water\\1_rainfall_water_network\\data\\Anglian_water\\Anglian Water data\\TSD\\months\\2023-07\n",
      "Extracted 2023-08.zip to D:\\qing_research\\1_rainfall_water\\1_rainfall_water_network\\data\\Anglian_water\\Anglian Water data\\TSD\\months\\2023-08\n",
      "Extracted 2023-09.zip to D:\\qing_research\\1_rainfall_water\\1_rainfall_water_network\\data\\Anglian_water\\Anglian Water data\\TSD\\months\\2023-09\n",
      "Extracted 2023-10.zip to D:\\qing_research\\1_rainfall_water\\1_rainfall_water_network\\data\\Anglian_water\\Anglian Water data\\TSD\\months\\2023-10\n",
      "Extracted 2023-11.zip to D:\\qing_research\\1_rainfall_water\\1_rainfall_water_network\\data\\Anglian_water\\Anglian Water data\\TSD\\months\\2023-11\n",
      "Extracted 2023-12.zip to D:\\qing_research\\1_rainfall_water\\1_rainfall_water_network\\data\\Anglian_water\\Anglian Water data\\TSD\\months\\2023-12\n",
      "Extracted 2024-01.zip to D:\\qing_research\\1_rainfall_water\\1_rainfall_water_network\\data\\Anglian_water\\Anglian Water data\\TSD\\months\\2024-01\n"
     ]
    }
   ],
   "source": [
    "for file_name in os.listdir(folder_path):\n",
    "    if file_name.endswith('.zip'):\n",
    "        file_path = os.path.join(folder_path, file_name)\n",
    "        extract_folder = os.path.join(folder_path,file_name.replace('.zip',''))\n",
    "        os.makedirs(extract_folder,exist_ok=True)\n",
    "        with zipfile.ZipFile(file_path, 'r') as zip_ref:\n",
    "            zip_ref.extractall(extract_folder)\n",
    "            print(f'Extracted {file_name} to {extract_folder}')"
   ]
  },
  {
   "cell_type": "code",
   "execution_count": null,
   "id": "c81773bf-e100-4ab0-a522-a0101a7002b7",
   "metadata": {},
   "outputs": [],
   "source": []
  }
 ],
 "metadata": {
  "kernelspec": {
   "display_name": "Python 3 (ipykernel)",
   "language": "python",
   "name": "python3"
  },
  "language_info": {
   "codemirror_mode": {
    "name": "ipython",
    "version": 3
   },
   "file_extension": ".py",
   "mimetype": "text/x-python",
   "name": "python",
   "nbconvert_exporter": "python",
   "pygments_lexer": "ipython3",
   "version": "3.12.7"
  }
 },
 "nbformat": 4,
 "nbformat_minor": 5
}
