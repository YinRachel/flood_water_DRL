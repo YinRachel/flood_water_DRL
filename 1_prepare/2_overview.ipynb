{
 "cells": [
  {
   "cell_type": "code",
   "execution_count": 1,
   "id": "5686a6b0-fc4b-4fde-bcd3-4d9a3462012a",
   "metadata": {},
   "outputs": [],
   "source": [
    "import requests\n",
    "import pandas as pd\n",
    "import geopandas as gpd"
   ]
  },
  {
   "cell_type": "code",
   "execution_count": 3,
   "id": "58983612-4351-4a24-a883-b6f5adf5967c",
   "metadata": {},
   "outputs": [
    {
     "data": {
      "text/html": [
       "<div>\n",
       "<style scoped>\n",
       "    .dataframe tbody tr th:only-of-type {\n",
       "        vertical-align: middle;\n",
       "    }\n",
       "\n",
       "    .dataframe tbody tr th {\n",
       "        vertical-align: top;\n",
       "    }\n",
       "\n",
       "    .dataframe thead th {\n",
       "        text-align: right;\n",
       "    }\n",
       "</style>\n",
       "<table border=\"1\" class=\"dataframe\">\n",
       "  <thead>\n",
       "    <tr style=\"text-align: right;\">\n",
       "      <th></th>\n",
       "      <th>Date/Time</th>\n",
       "      <th>DMA</th>\n",
       "      <th>DataSet</th>\n",
       "      <th>Flow(l/s)</th>\n",
       "    </tr>\n",
       "  </thead>\n",
       "  <tbody>\n",
       "    <tr>\n",
       "      <th>0</th>\n",
       "      <td>2020-01-02 00:00:00.0000000</td>\n",
       "      <td>AABOTTMA</td>\n",
       "      <td>BNF</td>\n",
       "      <td>1.200000</td>\n",
       "    </tr>\n",
       "    <tr>\n",
       "      <th>1</th>\n",
       "      <td>2020-01-02 00:15:00.0000000</td>\n",
       "      <td>AABOTTMA</td>\n",
       "      <td>BNF</td>\n",
       "      <td>1.022222</td>\n",
       "    </tr>\n",
       "    <tr>\n",
       "      <th>2</th>\n",
       "      <td>2020-01-02 00:30:00.0000000</td>\n",
       "      <td>AABOTTMA</td>\n",
       "      <td>BNF</td>\n",
       "      <td>0.877778</td>\n",
       "    </tr>\n",
       "    <tr>\n",
       "      <th>3</th>\n",
       "      <td>2020-01-02 00:45:00.0000000</td>\n",
       "      <td>AABOTTMA</td>\n",
       "      <td>BNF</td>\n",
       "      <td>0.911111</td>\n",
       "    </tr>\n",
       "    <tr>\n",
       "      <th>4</th>\n",
       "      <td>2020-01-02 01:00:00.0000000</td>\n",
       "      <td>AABOTTMA</td>\n",
       "      <td>BNF</td>\n",
       "      <td>0.811111</td>\n",
       "    </tr>\n",
       "  </tbody>\n",
       "</table>\n",
       "</div>"
      ],
      "text/plain": [
       "                     Date/Time       DMA DataSet  Flow(l/s)\n",
       "0  2020-01-02 00:00:00.0000000  AABOTTMA     BNF   1.200000\n",
       "1  2020-01-02 00:15:00.0000000  AABOTTMA     BNF   1.022222\n",
       "2  2020-01-02 00:30:00.0000000  AABOTTMA     BNF   0.877778\n",
       "3  2020-01-02 00:45:00.0000000  AABOTTMA     BNF   0.911111\n",
       "4  2020-01-02 01:00:00.0000000  AABOTTMA     BNF   0.811111"
      ]
     },
     "execution_count": 3,
     "metadata": {},
     "output_type": "execute_result"
    }
   ],
   "source": [
    "data = pd.read_csv('Anglian water/TSD/2020-Q1/2020-Q1.csv')\n",
    "data.head()"
   ]
  },
  {
   "cell_type": "code",
   "execution_count": 4,
   "id": "66ca2917-1282-404a-8a10-3f9ac3ee54c3",
   "metadata": {},
   "outputs": [
    {
     "data": {
      "text/plain": [
       "2030"
      ]
     },
     "execution_count": 4,
     "metadata": {},
     "output_type": "execute_result"
    }
   ],
   "source": [
    "unique_DMA_count = data['DMA'].nunique()\n",
    "unique_DMA_count"
   ]
  },
  {
   "cell_type": "code",
   "execution_count": 13,
   "id": "f9ad7c7a-4656-454c-bba6-ebe46fcc06e8",
   "metadata": {},
   "outputs": [
    {
     "data": {
      "text/plain": [
       "2031"
      ]
     },
     "execution_count": 13,
     "metadata": {},
     "output_type": "execute_result"
    }
   ],
   "source": [
    "data_Q2 = pd.read_csv('Anglian water/TSD/2020-Q2/2020-Q2.csv')\n",
    "unique_DMA_Q2_count = data_Q2['DMA'].nunique()\n",
    "unique_DMA_Q2_count"
   ]
  },
  {
   "cell_type": "code",
   "execution_count": 6,
   "id": "c50b92cd-f282-40f4-a28b-e01703fb5dcd",
   "metadata": {},
   "outputs": [
    {
     "data": {
      "text/html": [
       "<div>\n",
       "<style scoped>\n",
       "    .dataframe tbody tr th:only-of-type {\n",
       "        vertical-align: middle;\n",
       "    }\n",
       "\n",
       "    .dataframe tbody tr th {\n",
       "        vertical-align: top;\n",
       "    }\n",
       "\n",
       "    .dataframe thead th {\n",
       "        text-align: right;\n",
       "    }\n",
       "</style>\n",
       "<table border=\"1\" class=\"dataframe\">\n",
       "  <thead>\n",
       "    <tr style=\"text-align: right;\">\n",
       "      <th></th>\n",
       "      <th>Date/Time</th>\n",
       "      <th>DMA</th>\n",
       "      <th>DataSet</th>\n",
       "      <th>Flow(l/s)</th>\n",
       "    </tr>\n",
       "  </thead>\n",
       "  <tbody>\n",
       "    <tr>\n",
       "      <th>0</th>\n",
       "      <td>2020-01-02 00:00:00.0000000</td>\n",
       "      <td>ABBRIPMA</td>\n",
       "      <td>BLUF</td>\n",
       "      <td>0.022222</td>\n",
       "    </tr>\n",
       "    <tr>\n",
       "      <th>1</th>\n",
       "      <td>2020-01-02 00:15:00.0000000</td>\n",
       "      <td>ABBRIPMA</td>\n",
       "      <td>BLUF</td>\n",
       "      <td>0.022222</td>\n",
       "    </tr>\n",
       "    <tr>\n",
       "      <th>2</th>\n",
       "      <td>2020-01-02 00:30:00.0000000</td>\n",
       "      <td>ABBRIPMA</td>\n",
       "      <td>BLUF</td>\n",
       "      <td>0.044444</td>\n",
       "    </tr>\n",
       "    <tr>\n",
       "      <th>3</th>\n",
       "      <td>2020-01-02 00:45:00.0000000</td>\n",
       "      <td>ABBRIPMA</td>\n",
       "      <td>BLUF</td>\n",
       "      <td>0.032222</td>\n",
       "    </tr>\n",
       "    <tr>\n",
       "      <th>4</th>\n",
       "      <td>2020-01-02 01:00:00.0000000</td>\n",
       "      <td>ABBRIPMA</td>\n",
       "      <td>BLUF</td>\n",
       "      <td>0.000000</td>\n",
       "    </tr>\n",
       "  </tbody>\n",
       "</table>\n",
       "</div>"
      ],
      "text/plain": [
       "                     Date/Time       DMA DataSet  Flow(l/s)\n",
       "0  2020-01-02 00:00:00.0000000  ABBRIPMA    BLUF   0.022222\n",
       "1  2020-01-02 00:15:00.0000000  ABBRIPMA    BLUF   0.022222\n",
       "2  2020-01-02 00:30:00.0000000  ABBRIPMA    BLUF   0.044444\n",
       "3  2020-01-02 00:45:00.0000000  ABBRIPMA    BLUF   0.032222\n",
       "4  2020-01-02 01:00:00.0000000  ABBRIPMA    BLUF   0.000000"
      ]
     },
     "execution_count": 6,
     "metadata": {},
     "output_type": "execute_result"
    }
   ],
   "source": [
    "data_LCC = pd.read_csv('Anglian water/TSD/2020-Q1-LCC/2020-Q1-LCC.csv')\n",
    "data_LCC.head()\n"
   ]
  },
  {
   "cell_type": "code",
   "execution_count": 7,
   "id": "e3fce0ba-59f2-47a8-8e0f-e1eaafef0e11",
   "metadata": {},
   "outputs": [
    {
     "data": {
      "text/plain": [
       "631"
      ]
     },
     "execution_count": 7,
     "metadata": {},
     "output_type": "execute_result"
    }
   ],
   "source": [
    "unique_DMALCC_count = data_LCC['DMA'].nunique()\n",
    "unique_DMALCC_count"
   ]
  },
  {
   "cell_type": "code",
   "execution_count": 8,
   "id": "99086a99-5947-44ed-919e-5654e2609b4d",
   "metadata": {},
   "outputs": [
    {
     "data": {
      "text/html": [
       "<div>\n",
       "<style scoped>\n",
       "    .dataframe tbody tr th:only-of-type {\n",
       "        vertical-align: middle;\n",
       "    }\n",
       "\n",
       "    .dataframe tbody tr th {\n",
       "        vertical-align: top;\n",
       "    }\n",
       "\n",
       "    .dataframe thead th {\n",
       "        text-align: right;\n",
       "    }\n",
       "</style>\n",
       "<table border=\"1\" class=\"dataframe\">\n",
       "  <thead>\n",
       "    <tr style=\"text-align: right;\">\n",
       "      <th></th>\n",
       "      <th>UTC Date/Time</th>\n",
       "      <th>PointId</th>\n",
       "      <th>Quality</th>\n",
       "      <th>Flow l/s</th>\n",
       "    </tr>\n",
       "  </thead>\n",
       "  <tbody>\n",
       "    <tr>\n",
       "      <th>0</th>\n",
       "      <td>2021-02-01 00:00:00.0000000</td>\n",
       "      <td>10070485</td>\n",
       "      <td>Raw</td>\n",
       "      <td>15.277778</td>\n",
       "    </tr>\n",
       "    <tr>\n",
       "      <th>1</th>\n",
       "      <td>2021-02-01 00:00:00.0000000</td>\n",
       "      <td>10070489</td>\n",
       "      <td>Raw</td>\n",
       "      <td>30.222222</td>\n",
       "    </tr>\n",
       "    <tr>\n",
       "      <th>2</th>\n",
       "      <td>2021-02-01 00:00:00.0000000</td>\n",
       "      <td>10070515</td>\n",
       "      <td>Raw</td>\n",
       "      <td>73.111110</td>\n",
       "    </tr>\n",
       "    <tr>\n",
       "      <th>3</th>\n",
       "      <td>2021-02-01 00:00:00.0000000</td>\n",
       "      <td>10070547</td>\n",
       "      <td>Raw</td>\n",
       "      <td>0.000000</td>\n",
       "    </tr>\n",
       "    <tr>\n",
       "      <th>4</th>\n",
       "      <td>2021-02-01 00:00:00.0000000</td>\n",
       "      <td>10070548</td>\n",
       "      <td>Raw</td>\n",
       "      <td>2.900000</td>\n",
       "    </tr>\n",
       "  </tbody>\n",
       "</table>\n",
       "</div>"
      ],
      "text/plain": [
       "                 UTC Date/Time   PointId Quality   Flow l/s\n",
       "0  2021-02-01 00:00:00.0000000  10070485     Raw  15.277778\n",
       "1  2021-02-01 00:00:00.0000000  10070489     Raw  30.222222\n",
       "2  2021-02-01 00:00:00.0000000  10070515     Raw  73.111110\n",
       "3  2021-02-01 00:00:00.0000000  10070547     Raw   0.000000\n",
       "4  2021-02-01 00:00:00.0000000  10070548     Raw   2.900000"
      ]
     },
     "execution_count": 8,
     "metadata": {},
     "output_type": "execute_result"
    }
   ],
   "source": [
    "data_months = pd.read_csv('Anglian water/TSD/Months/2021-02/2021-02.csv')\n",
    "data_months.head()"
   ]
  },
  {
   "cell_type": "code",
   "execution_count": 9,
   "id": "7ac3c39b-f239-4ccd-b276-457543132ff8",
   "metadata": {},
   "outputs": [
    {
     "data": {
      "text/plain": [
       "4625"
      ]
     },
     "execution_count": 9,
     "metadata": {},
     "output_type": "execute_result"
    }
   ],
   "source": [
    "unique_DMAmonth_count = data_months['PointId'].nunique()\n",
    "unique_DMAmonth_count"
   ]
  },
  {
   "cell_type": "code",
   "execution_count": 10,
   "id": "016b6fb3-9257-43b6-81aa-72d44bf783ad",
   "metadata": {},
   "outputs": [
    {
     "data": {
      "text/html": [
       "<div>\n",
       "<style scoped>\n",
       "    .dataframe tbody tr th:only-of-type {\n",
       "        vertical-align: middle;\n",
       "    }\n",
       "\n",
       "    .dataframe tbody tr th {\n",
       "        vertical-align: top;\n",
       "    }\n",
       "\n",
       "    .dataframe thead th {\n",
       "        text-align: right;\n",
       "    }\n",
       "</style>\n",
       "<table border=\"1\" class=\"dataframe\">\n",
       "  <thead>\n",
       "    <tr style=\"text-align: right;\">\n",
       "      <th></th>\n",
       "      <th>Date/Time</th>\n",
       "      <th>DMA</th>\n",
       "      <th>DataSet</th>\n",
       "      <th>Flow(l/s)</th>\n",
       "    </tr>\n",
       "  </thead>\n",
       "  <tbody>\n",
       "    <tr>\n",
       "      <th>0</th>\n",
       "      <td>2023-08-26 00:00:00.0000000</td>\n",
       "      <td>AABOTTMA</td>\n",
       "      <td>BNF</td>\n",
       "      <td>2.166667</td>\n",
       "    </tr>\n",
       "    <tr>\n",
       "      <th>1</th>\n",
       "      <td>2023-08-26 00:15:00.0000000</td>\n",
       "      <td>AABOTTMA</td>\n",
       "      <td>BNF</td>\n",
       "      <td>2.400000</td>\n",
       "    </tr>\n",
       "    <tr>\n",
       "      <th>2</th>\n",
       "      <td>2023-08-26 00:30:00.0000000</td>\n",
       "      <td>AABOTTMA</td>\n",
       "      <td>BNF</td>\n",
       "      <td>2.444444</td>\n",
       "    </tr>\n",
       "    <tr>\n",
       "      <th>3</th>\n",
       "      <td>2023-08-26 00:45:00.0000000</td>\n",
       "      <td>AABOTTMA</td>\n",
       "      <td>BNF</td>\n",
       "      <td>2.255556</td>\n",
       "    </tr>\n",
       "    <tr>\n",
       "      <th>4</th>\n",
       "      <td>2023-08-26 01:00:00.0000000</td>\n",
       "      <td>AABOTTMA</td>\n",
       "      <td>BNF</td>\n",
       "      <td>1.911111</td>\n",
       "    </tr>\n",
       "  </tbody>\n",
       "</table>\n",
       "</div>"
      ],
      "text/plain": [
       "                     Date/Time       DMA DataSet  Flow(l/s)\n",
       "0  2023-08-26 00:00:00.0000000  AABOTTMA     BNF   2.166667\n",
       "1  2023-08-26 00:15:00.0000000  AABOTTMA     BNF   2.400000\n",
       "2  2023-08-26 00:30:00.0000000  AABOTTMA     BNF   2.444444\n",
       "3  2023-08-26 00:45:00.0000000  AABOTTMA     BNF   2.255556\n",
       "4  2023-08-26 01:00:00.0000000  AABOTTMA     BNF   1.911111"
      ]
     },
     "execution_count": 10,
     "metadata": {},
     "output_type": "execute_result"
    }
   ],
   "source": [
    "data_30_day = pd.read_csv('Anglian water/TSD/30 day/2023-09-25 - 30 Day Extract/2023-09-25 - 30 Day Extract.csv')\n",
    "data_30_day.head()"
   ]
  },
  {
   "cell_type": "code",
   "execution_count": 12,
   "id": "4f3b0953-5444-4914-aef0-257d78cb2f2e",
   "metadata": {},
   "outputs": [
    {
     "data": {
      "text/plain": [
       "2150"
      ]
     },
     "execution_count": 12,
     "metadata": {},
     "output_type": "execute_result"
    }
   ],
   "source": [
    "unique_30_day = data_30_day['DMA'].nunique()\n",
    "unique_30_day"
   ]
  },
  {
   "cell_type": "code",
   "execution_count": null,
   "id": "29a8984c-9f34-4a68-bb18-2abba51975db",
   "metadata": {},
   "outputs": [],
   "source": []
  }
 ],
 "metadata": {
  "kernelspec": {
   "display_name": "Python 3 (ipykernel)",
   "language": "python",
   "name": "python3"
  },
  "language_info": {
   "codemirror_mode": {
    "name": "ipython",
    "version": 3
   },
   "file_extension": ".py",
   "mimetype": "text/x-python",
   "name": "python",
   "nbconvert_exporter": "python",
   "pygments_lexer": "ipython3",
   "version": "3.12.4"
  }
 },
 "nbformat": 4,
 "nbformat_minor": 5
}
