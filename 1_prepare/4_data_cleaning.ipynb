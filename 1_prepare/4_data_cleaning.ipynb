{
 "cells": [
  {
   "cell_type": "code",
   "execution_count": 25,
   "id": "e96f5d8d-7442-45a9-976c-41277a548e60",
   "metadata": {},
   "outputs": [],
   "source": [
    "import pandas as pd\n",
    "from tqdm import tqdm"
   ]
  },
  {
   "cell_type": "code",
   "execution_count": 21,
   "id": "762ead8f-3829-4770-9ff5-b89f38f28fcd",
   "metadata": {},
   "outputs": [],
   "source": [
    "data_2020_q1_path = \"D:\\\\qing_research\\\\1_rainfall_water\\\\1_rainfall_water_network\\\\data\\\\Anglian_water\\\\Anglian Water data\\\\TSD\\\\2020-Q1\\\\2020-Q1.csv\"\n",
    "data_2020_q1_output = \"D:\\\\qing_research\\\\1_rainfall_water\\\\1_rainfall_water_network\\\\data\\\\clean\\\\2020_Q1\\\\by_DMA\""
   ]
  },
  {
   "cell_type": "code",
   "execution_count": 6,
   "id": "c2ead054-da9b-4cea-ac00-c759bafb53b0",
   "metadata": {},
   "outputs": [
    {
     "data": {
      "text/html": [
       "<div>\n",
       "<style scoped>\n",
       "    .dataframe tbody tr th:only-of-type {\n",
       "        vertical-align: middle;\n",
       "    }\n",
       "\n",
       "    .dataframe tbody tr th {\n",
       "        vertical-align: top;\n",
       "    }\n",
       "\n",
       "    .dataframe thead th {\n",
       "        text-align: right;\n",
       "    }\n",
       "</style>\n",
       "<table border=\"1\" class=\"dataframe\">\n",
       "  <thead>\n",
       "    <tr style=\"text-align: right;\">\n",
       "      <th></th>\n",
       "      <th>Date/Time</th>\n",
       "      <th>DMA</th>\n",
       "      <th>DataSet</th>\n",
       "      <th>Flow(l/s)</th>\n",
       "    </tr>\n",
       "  </thead>\n",
       "  <tbody>\n",
       "    <tr>\n",
       "      <th>0</th>\n",
       "      <td>2020-01-02 00:00:00.0000000</td>\n",
       "      <td>AABOTTMA</td>\n",
       "      <td>BNF</td>\n",
       "      <td>1.200000</td>\n",
       "    </tr>\n",
       "    <tr>\n",
       "      <th>1</th>\n",
       "      <td>2020-01-02 00:15:00.0000000</td>\n",
       "      <td>AABOTTMA</td>\n",
       "      <td>BNF</td>\n",
       "      <td>1.022222</td>\n",
       "    </tr>\n",
       "    <tr>\n",
       "      <th>2</th>\n",
       "      <td>2020-01-02 00:30:00.0000000</td>\n",
       "      <td>AABOTTMA</td>\n",
       "      <td>BNF</td>\n",
       "      <td>0.877778</td>\n",
       "    </tr>\n",
       "    <tr>\n",
       "      <th>3</th>\n",
       "      <td>2020-01-02 00:45:00.0000000</td>\n",
       "      <td>AABOTTMA</td>\n",
       "      <td>BNF</td>\n",
       "      <td>0.911111</td>\n",
       "    </tr>\n",
       "    <tr>\n",
       "      <th>4</th>\n",
       "      <td>2020-01-02 01:00:00.0000000</td>\n",
       "      <td>AABOTTMA</td>\n",
       "      <td>BNF</td>\n",
       "      <td>0.811111</td>\n",
       "    </tr>\n",
       "  </tbody>\n",
       "</table>\n",
       "</div>"
      ],
      "text/plain": [
       "                     Date/Time       DMA DataSet  Flow(l/s)\n",
       "0  2020-01-02 00:00:00.0000000  AABOTTMA     BNF   1.200000\n",
       "1  2020-01-02 00:15:00.0000000  AABOTTMA     BNF   1.022222\n",
       "2  2020-01-02 00:30:00.0000000  AABOTTMA     BNF   0.877778\n",
       "3  2020-01-02 00:45:00.0000000  AABOTTMA     BNF   0.911111\n",
       "4  2020-01-02 01:00:00.0000000  AABOTTMA     BNF   0.811111"
      ]
     },
     "execution_count": 6,
     "metadata": {},
     "output_type": "execute_result"
    }
   ],
   "source": [
    "data_2020_q1 = pd.read_csv(data_2020_q1_path)\n",
    "data_2020_q1.head()"
   ]
  },
  {
   "cell_type": "code",
   "execution_count": 7,
   "id": "24f17914-1e83-41b0-9435-9b8384942d1d",
   "metadata": {},
   "outputs": [
    {
     "name": "stdout",
     "output_type": "stream",
     "text": [
      "<class 'pandas.core.frame.DataFrame'>\n",
      "RangeIndex: 17589062 entries, 0 to 17589061\n",
      "Data columns (total 4 columns):\n",
      " #   Column     Dtype  \n",
      "---  ------     -----  \n",
      " 0   Date/Time  object \n",
      " 1   DMA        object \n",
      " 2   DataSet    object \n",
      " 3   Flow(l/s)  float64\n",
      "dtypes: float64(1), object(3)\n",
      "memory usage: 536.8+ MB\n"
     ]
    }
   ],
   "source": [
    "data_2020_q1.info()"
   ]
  },
  {
   "cell_type": "code",
   "execution_count": 8,
   "id": "0eede6dd-9c05-4d09-a40e-7f39caa158e8",
   "metadata": {},
   "outputs": [
    {
     "data": {
      "text/html": [
       "<div>\n",
       "<style scoped>\n",
       "    .dataframe tbody tr th:only-of-type {\n",
       "        vertical-align: middle;\n",
       "    }\n",
       "\n",
       "    .dataframe tbody tr th {\n",
       "        vertical-align: top;\n",
       "    }\n",
       "\n",
       "    .dataframe thead th {\n",
       "        text-align: right;\n",
       "    }\n",
       "</style>\n",
       "<table border=\"1\" class=\"dataframe\">\n",
       "  <thead>\n",
       "    <tr style=\"text-align: right;\">\n",
       "      <th></th>\n",
       "      <th>Flow(l/s)</th>\n",
       "    </tr>\n",
       "  </thead>\n",
       "  <tbody>\n",
       "    <tr>\n",
       "      <th>count</th>\n",
       "      <td>1.609942e+07</td>\n",
       "    </tr>\n",
       "    <tr>\n",
       "      <th>mean</th>\n",
       "      <td>4.703496e+02</td>\n",
       "    </tr>\n",
       "    <tr>\n",
       "      <th>std</th>\n",
       "      <td>1.573495e+06</td>\n",
       "    </tr>\n",
       "    <tr>\n",
       "      <th>min</th>\n",
       "      <td>-2.386092e+09</td>\n",
       "    </tr>\n",
       "    <tr>\n",
       "      <th>25%</th>\n",
       "      <td>1.222222e+00</td>\n",
       "    </tr>\n",
       "    <tr>\n",
       "      <th>50%</th>\n",
       "      <td>3.622222e+00</td>\n",
       "    </tr>\n",
       "    <tr>\n",
       "      <th>75%</th>\n",
       "      <td>8.066667e+00</td>\n",
       "    </tr>\n",
       "    <tr>\n",
       "      <th>max</th>\n",
       "      <td>2.386093e+09</td>\n",
       "    </tr>\n",
       "  </tbody>\n",
       "</table>\n",
       "</div>"
      ],
      "text/plain": [
       "          Flow(l/s)\n",
       "count  1.609942e+07\n",
       "mean   4.703496e+02\n",
       "std    1.573495e+06\n",
       "min   -2.386092e+09\n",
       "25%    1.222222e+00\n",
       "50%    3.622222e+00\n",
       "75%    8.066667e+00\n",
       "max    2.386093e+09"
      ]
     },
     "execution_count": 8,
     "metadata": {},
     "output_type": "execute_result"
    }
   ],
   "source": [
    "data_2020_q1.describe()"
   ]
  },
  {
   "cell_type": "code",
   "execution_count": 9,
   "id": "7ab9e8c1-b699-4081-8f99-07076c77c5fd",
   "metadata": {},
   "outputs": [
    {
     "data": {
      "text/plain": [
       "Date/Time          0\n",
       "DMA                0\n",
       "DataSet            0\n",
       "Flow(l/s)    1489637\n",
       "dtype: int64"
      ]
     },
     "execution_count": 9,
     "metadata": {},
     "output_type": "execute_result"
    }
   ],
   "source": [
    "data_2020_q1.isnull().sum()"
   ]
  },
  {
   "cell_type": "code",
   "execution_count": 10,
   "id": "c1ef184a-72f8-4f8f-80f3-43ad486d895f",
   "metadata": {},
   "outputs": [
    {
     "data": {
      "text/plain": [
       "0          2020-01-02 00:00:00\n",
       "1          2020-01-02 00:15:00\n",
       "2          2020-01-02 00:30:00\n",
       "3          2020-01-02 00:45:00\n",
       "4          2020-01-02 01:00:00\n",
       "                   ...        \n",
       "17589057   2020-03-31 21:45:00\n",
       "17589058   2020-03-31 22:00:00\n",
       "17589059   2020-03-31 22:15:00\n",
       "17589060   2020-03-31 22:30:00\n",
       "17589061   2020-03-31 22:45:00\n",
       "Name: Date/Time, Length: 17589062, dtype: datetime64[ns]"
      ]
     },
     "execution_count": 10,
     "metadata": {},
     "output_type": "execute_result"
    }
   ],
   "source": [
    "data_2020_q1['Date/Time'] = pd.to_datetime(data_2020_q1['Date/Time'])\n",
    "data_2020_q1['Date/Time']"
   ]
  },
  {
   "cell_type": "code",
   "execution_count": 14,
   "id": "e677ae4b-1ef7-4e90-ad5c-8089b48ef41b",
   "metadata": {},
   "outputs": [
    {
     "data": {
      "text/plain": [
       "DatetimeIndex(['2020-01-02 00:00:00', '2020-01-02 00:15:00',\n",
       "               '2020-01-02 00:30:00', '2020-01-02 00:45:00',\n",
       "               '2020-01-02 01:00:00', '2020-01-02 01:15:00',\n",
       "               '2020-01-02 01:30:00', '2020-01-02 01:45:00',\n",
       "               '2020-01-02 02:00:00', '2020-01-02 02:15:00',\n",
       "               ...\n",
       "               '2020-03-31 20:30:00', '2020-03-31 20:45:00',\n",
       "               '2020-03-31 21:00:00', '2020-03-31 21:15:00',\n",
       "               '2020-03-31 21:30:00', '2020-03-31 21:45:00',\n",
       "               '2020-03-31 22:00:00', '2020-03-31 22:15:00',\n",
       "               '2020-03-31 22:30:00', '2020-03-31 22:45:00'],\n",
       "              dtype='datetime64[ns]', length=8636, freq='15min')"
      ]
     },
     "execution_count": 14,
     "metadata": {},
     "output_type": "execute_result"
    }
   ],
   "source": [
    "date_range = pd.date_range(start = '2020-01-02 00:00:00', end = '2020-03-31 22:45:00', freq = '15min')\n",
    "date_range"
   ]
  },
  {
   "cell_type": "code",
   "execution_count": 15,
   "id": "866e5d55-48c3-497e-8e4f-1c2a6dc6bba5",
   "metadata": {},
   "outputs": [],
   "source": [
    "dma_dfs = {}"
   ]
  },
  {
   "cell_type": "code",
   "execution_count": 18,
   "id": "662ef7e5-92a1-41ed-bdd1-6cebb281b188",
   "metadata": {},
   "outputs": [],
   "source": [
    "for dma, group in data_2020_q1.groupby('DMA'):\n",
    "    group = group.set_index('Date/Time')\n",
    "    group = group.reindex(date_range)\n",
    "    group = group.reset_index().rename(columns={'index':'Date/Time'})\n",
    "    dma_dfs[dma] = group.sort_values(by='Date/Time', ascending=True).reset_index(drop=True)"
   ]
  },
  {
   "cell_type": "code",
   "execution_count": 20,
   "id": "1877f065-5c9c-414b-a5de-97c3a5d3df03",
   "metadata": {},
   "outputs": [
    {
     "data": {
      "text/plain": [
       "2030"
      ]
     },
     "execution_count": 20,
     "metadata": {},
     "output_type": "execute_result"
    }
   ],
   "source": [
    "num_dmas = len(dma_dfs)\n",
    "num_dmas"
   ]
  },
  {
   "cell_type": "code",
   "execution_count": 26,
   "id": "7e27a824-4ea3-4132-917b-fea07cba400f",
   "metadata": {},
   "outputs": [
    {
     "name": "stderr",
     "output_type": "stream",
     "text": [
      "saving: 100%|██████████████████████████████████████████████████████████████████████| 2030/2030 [00:43<00:00, 46.23it/s]\n"
     ]
    }
   ],
   "source": [
    "with tqdm(total = num_dmas, desc = \"saving\") as progress_bar:\n",
    "    for dma, df in dma_dfs.items():\n",
    "        df.to_csv(f'{data_2020_q1_output}/{dma}.csv',index=False)\n",
    "        progress_bar.update(1)"
   ]
  },
  {
   "cell_type": "code",
   "execution_count": 27,
   "id": "64c173ac-fe11-43a6-89cd-a3f107ea0b3a",
   "metadata": {},
   "outputs": [],
   "source": [
    "data_2020_q1_AABOTTMA_path = \"D:\\\\qing_research\\\\1_rainfall_water\\\\1_rainfall_water_network\\\\data\\\\clean\\\\2020_Q1\\\\by_DMA\\\\AABOTTMA.csv\""
   ]
  },
  {
   "cell_type": "code",
   "execution_count": 29,
   "id": "44ebaa8d-40b1-49cd-aa7a-92317e49a9fb",
   "metadata": {},
   "outputs": [
    {
     "data": {
      "text/plain": [
       "Date/Time     0\n",
       "DMA          16\n",
       "DataSet      16\n",
       "Flow(l/s)    20\n",
       "dtype: int64"
      ]
     },
     "execution_count": 29,
     "metadata": {},
     "output_type": "execute_result"
    }
   ],
   "source": [
    "data_2020_q1_AABOTTMA = pd.read_csv(data_2020_q1_AABOTTMA_path)\n",
    "data_2020_q1_AABOTTMA.isnull().sum()"
   ]
  },
  {
   "cell_type": "code",
   "execution_count": 30,
   "id": "1126785d-5ec5-4961-990c-53370f7ab784",
   "metadata": {},
   "outputs": [
    {
     "data": {
      "text/html": [
       "<div>\n",
       "<style scoped>\n",
       "    .dataframe tbody tr th:only-of-type {\n",
       "        vertical-align: middle;\n",
       "    }\n",
       "\n",
       "    .dataframe tbody tr th {\n",
       "        vertical-align: top;\n",
       "    }\n",
       "\n",
       "    .dataframe thead th {\n",
       "        text-align: right;\n",
       "    }\n",
       "</style>\n",
       "<table border=\"1\" class=\"dataframe\">\n",
       "  <thead>\n",
       "    <tr style=\"text-align: right;\">\n",
       "      <th></th>\n",
       "      <th>Date/Time</th>\n",
       "      <th>DMA</th>\n",
       "      <th>DataSet</th>\n",
       "      <th>Flow(l/s)</th>\n",
       "    </tr>\n",
       "  </thead>\n",
       "  <tbody>\n",
       "    <tr>\n",
       "      <th>0</th>\n",
       "      <td>2020-01-02 00:00:00</td>\n",
       "      <td>AABOTTMA</td>\n",
       "      <td>BNF</td>\n",
       "      <td>1.200000</td>\n",
       "    </tr>\n",
       "    <tr>\n",
       "      <th>1</th>\n",
       "      <td>2020-01-02 00:15:00</td>\n",
       "      <td>AABOTTMA</td>\n",
       "      <td>BNF</td>\n",
       "      <td>1.022222</td>\n",
       "    </tr>\n",
       "    <tr>\n",
       "      <th>2</th>\n",
       "      <td>2020-01-02 00:30:00</td>\n",
       "      <td>AABOTTMA</td>\n",
       "      <td>BNF</td>\n",
       "      <td>0.877778</td>\n",
       "    </tr>\n",
       "    <tr>\n",
       "      <th>3</th>\n",
       "      <td>2020-01-02 00:45:00</td>\n",
       "      <td>AABOTTMA</td>\n",
       "      <td>BNF</td>\n",
       "      <td>0.911111</td>\n",
       "    </tr>\n",
       "    <tr>\n",
       "      <th>4</th>\n",
       "      <td>2020-01-02 01:00:00</td>\n",
       "      <td>AABOTTMA</td>\n",
       "      <td>BNF</td>\n",
       "      <td>0.811111</td>\n",
       "    </tr>\n",
       "  </tbody>\n",
       "</table>\n",
       "</div>"
      ],
      "text/plain": [
       "             Date/Time       DMA DataSet  Flow(l/s)\n",
       "0  2020-01-02 00:00:00  AABOTTMA     BNF   1.200000\n",
       "1  2020-01-02 00:15:00  AABOTTMA     BNF   1.022222\n",
       "2  2020-01-02 00:30:00  AABOTTMA     BNF   0.877778\n",
       "3  2020-01-02 00:45:00  AABOTTMA     BNF   0.911111\n",
       "4  2020-01-02 01:00:00  AABOTTMA     BNF   0.811111"
      ]
     },
     "execution_count": 30,
     "metadata": {},
     "output_type": "execute_result"
    }
   ],
   "source": [
    "data_2020_q1_AABOTTMA.head()"
   ]
  },
  {
   "cell_type": "code",
   "execution_count": 31,
   "id": "eb828c87-bf02-43ce-b845-32403996bfca",
   "metadata": {},
   "outputs": [],
   "source": [
    "import matplotlib.pyplot as plt"
   ]
  },
  {
   "cell_type": "code",
   "execution_count": 34,
   "id": "740ca1c5-9a7f-4a3d-89eb-ffcc90d81ed9",
   "metadata": {},
   "outputs": [
    {
     "data": {
      "image/png": "[encoded data removed]",
      "text/plain": [
       "<Figure size 640x480 with 1 Axes>"
      ]
     },
     "metadata": {},
     "output_type": "display_data"
    }
   ],
   "source": [
    "plt.plot(data_2020_q1_AABOTTMA['Date/Time'],data_2020_q1_AABOTTMA['Flow(l/s)'])\n",
    "plt.show()"
   ]
  },
  {
   "cell_type": "code",
   "execution_count": null,
   "id": "5f883993-6cb2-4b3c-a19d-7aef05cc2c4d",
   "metadata": {},
   "outputs": [],
   "source": []
  }
 ],
 "metadata": {
  "kernelspec": {
   "display_name": "Python 3 (ipykernel)",
   "language": "python",
   "name": "python3"
  },
  "language_info": {
   "codemirror_mode": {
    "name": "ipython",
    "version": 3
   },
   "file_extension": ".py",
   "mimetype": "text/x-python",
   "name": "python",
   "nbconvert_exporter": "python",
   "pygments_lexer": "ipython3",
   "version": "3.12.7"
  }
 },
 "nbformat": 4,
 "nbformat_minor": 5
}
