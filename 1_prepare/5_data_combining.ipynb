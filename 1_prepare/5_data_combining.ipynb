{
 "cells": [
  {
   "cell_type": "code",
   "execution_count": 41,
   "id": "620fe04d-826f-423d-85f2-934be4311668",
   "metadata": {},
   "outputs": [],
   "source": [
    "import os\n",
    "import pandas as pd\n",
    "from tqdm import tqdm"
   ]
  },
  {
   "cell_type": "code",
   "execution_count": 42,
   "id": "a59f6d49-7ca7-4eae-830e-980e5339f7d6",
   "metadata": {},
   "outputs": [],
   "source": [
    "flow_data_path = \"D:\\\\qing_research\\\\1_rainfall_water\\\\1_rainfall_water_network\\\\data\\\\clean\\\\2020_Q1\\\\by_DMA\"\n",
    "precipitation_data_path = \"D:\\\\qing_research\\\\1_rainfall_water\\\\1_rainfall_water_network\\\\data\\\\precipitation\\\\dma_cell_num\"\n",
    "output_path = \"D:\\\\qing_research\\\\1_rainfall_water\\\\1_rainfall_water_network\\\\data\\\\precipitation_water_combine\\\\2020_Q1\""
   ]
  },
  {
   "cell_type": "code",
   "execution_count": 21,
   "id": "5407babf-e3a5-4f3a-aa8f-0d53d648e42f",
   "metadata": {},
   "outputs": [
    {
     "name": "stderr",
     "output_type": "stream",
     "text": [
      "Processing: 100%|████████████████████████████████████████████████████████████████| 2030/2030 [00:01<00:00, 1474.37it/s]"
     ]
    },
    {
     "name": "stdout",
     "output_type": "stream",
     "text": [
      "finished\n"
     ]
    },
    {
     "name": "stderr",
     "output_type": "stream",
     "text": [
      "\n"
     ]
    }
   ],
   "source": [
    "for filename in tqdm(os.listdir(flow_data_path),desc=\"Processing\"):\n",
    "    new_filename = filename[:-4]  # Removes the last 4 characters (\".csv\")\n",
    "        # Construct the full file paths\n",
    "    original_file_path = os.path.join(flow_data_path, filename)\n",
    "    new_file_path = os.path.join(flow_data_path, new_filename)\n",
    "        \n",
    "        # Rename the file\n",
    "    os.rename(original_file_path, new_file_path)\n",
    "print(\"finished\")"
   ]
  },
  {
   "cell_type": "code",
   "execution_count": 43,
   "id": "c62a9f48-4ca7-4e21-8445-a3cf57a2c2f0",
   "metadata": {},
   "outputs": [],
   "source": [
    "precipitation_dma = {}\n",
    "missing_precipitation_dma = []"
   ]
  },
  {
   "cell_type": "code",
   "execution_count": 44,
   "id": "1b929f5d-a8ff-45de-ae74-db2d95dfdf4c",
   "metadata": {},
   "outputs": [],
   "source": [
    "for filename in os.listdir(precipitation_data_path):\n",
    "    if filename.endswith('.csv'):\n",
    "        dma_code = filename.split('_')[0]\n",
    "        precipitation_dma[dma_code] = filename"
   ]
  },
  {
   "cell_type": "code",
   "execution_count": 45,
   "id": "8a16371b-a125-4005-9f88-36ccbdce27d2",
   "metadata": {},
   "outputs": [
    {
     "name": "stderr",
     "output_type": "stream",
     "text": [
      "processing:   1%|▎                                                                   | 11/2030 [00:00<01:00, 33.56it/s]"
     ]
    },
    {
     "name": "stdout",
     "output_type": "stream",
     "text": [
      "no matching precipitation data for ADELDRMA\n"
     ]
    },
    {
     "name": "stderr",
     "output_type": "stream",
     "text": [
      "processing:   2%|█                                                                   | 33/2030 [00:00<00:53, 37.66it/s]"
     ]
    },
    {
     "name": "stdout",
     "output_type": "stream",
     "text": [
      "no matching precipitation data for ARHIL1MA\n",
      "no matching precipitation data for ARLESDMA\n"
     ]
    },
    {
     "name": "stderr",
     "output_type": "stream",
     "text": [
      "processing:   3%|██▏                                                                 | 65/2030 [00:01<00:48, 40.29it/s]"
     ]
    },
    {
     "name": "stdout",
     "output_type": "stream",
     "text": [
      "no matching precipitation data for BACONSMA & ITTRNHMA Merge\n"
     ]
    },
    {
     "name": "stderr",
     "output_type": "stream",
     "text": [
      "processing:   5%|███▏                                                                | 96/2030 [00:02<00:50, 38.24it/s]"
     ]
    },
    {
     "name": "stdout",
     "output_type": "stream",
     "text": [
      "no matching precipitation data for BARRODMA\n"
     ]
    },
    {
     "name": "stderr",
     "output_type": "stream",
     "text": [
      "processing:   6%|███▉                                                               | 121/2030 [00:03<00:44, 42.58it/s]"
     ]
    },
    {
     "name": "stdout",
     "output_type": "stream",
     "text": [
      "no matching precipitation data for BHTRNKMA\n"
     ]
    },
    {
     "name": "stderr",
     "output_type": "stream",
     "text": [
      "processing:  10%|██████▌                                                            | 197/2030 [00:05<00:46, 39.44it/s]"
     ]
    },
    {
     "name": "stdout",
     "output_type": "stream",
     "text": [
      "no matching precipitation data for BRABCSMA\n"
     ]
    },
    {
     "name": "stderr",
     "output_type": "stream",
     "text": [
      "processing:  11%|███████▎                                                           | 222/2030 [00:05<00:40, 44.14it/s]"
     ]
    },
    {
     "name": "stdout",
     "output_type": "stream",
     "text": [
      "no matching precipitation data for BRAHGTMA\n",
      "no matching precipitation data for BRAKVFMA\n"
     ]
    },
    {
     "name": "stderr",
     "output_type": "stream",
     "text": [
      "processing:  13%|████████▍                                                          | 257/2030 [00:06<00:42, 42.14it/s]"
     ]
    },
    {
     "name": "stdout",
     "output_type": "stream",
     "text": [
      "no matching precipitation data for BRGHTNMA\n"
     ]
    },
    {
     "name": "stderr",
     "output_type": "stream",
     "text": [
      "processing:  16%|██████████▌                                                        | 319/2030 [00:08<00:42, 40.13it/s]"
     ]
    },
    {
     "name": "stdout",
     "output_type": "stream",
     "text": [
      "no matching precipitation data for BURTONMA\n",
      "no matching precipitation data for Burwell & Exning DMA\n"
     ]
    },
    {
     "name": "stderr",
     "output_type": "stream",
     "text": [
      "processing:  17%|███████████                                                        | 335/2030 [00:08<00:44, 38.02it/s]"
     ]
    },
    {
     "name": "stdout",
     "output_type": "stream",
     "text": [
      "no matching precipitation data for CAILOWMA\n"
     ]
    },
    {
     "name": "stderr",
     "output_type": "stream",
     "text": [
      "processing:  19%|████████████▊                                                      | 390/2030 [00:10<00:43, 38.02it/s]"
     ]
    },
    {
     "name": "stdout",
     "output_type": "stream",
     "text": [
      "no matching precipitation data for CLIPSHMA\n"
     ]
    },
    {
     "name": "stderr",
     "output_type": "stream",
     "text": [
      "processing:  20%|█████████████▎                                                     | 404/2030 [00:10<00:33, 49.13it/s]"
     ]
    },
    {
     "name": "stdout",
     "output_type": "stream",
     "text": [
      "no matching precipitation data for COLCBKMA\n",
      "no matching precipitation data for COLCLDMA\n",
      "no matching precipitation data for COLCLXMA\n",
      "no matching precipitation data for COLCNTMA\n",
      "no matching precipitation data for COLCPGMA\n",
      "no matching precipitation data for COLCSTMA\n"
     ]
    },
    {
     "name": "stderr",
     "output_type": "stream",
     "text": [
      "processing:  21%|██████████████▏                                                    | 430/2030 [00:11<00:41, 38.52it/s]"
     ]
    },
    {
     "name": "stdout",
     "output_type": "stream",
     "text": [
      "no matching precipitation data for CORHSTMA\n",
      "no matching precipitation data for CORRWBMA\n"
     ]
    },
    {
     "name": "stderr",
     "output_type": "stream",
     "text": [
      "processing:  22%|██████████████▉                                                    | 453/2030 [00:11<00:42, 37.02it/s]"
     ]
    },
    {
     "name": "stdout",
     "output_type": "stream",
     "text": [
      "no matching precipitation data for CROMWLMA\n"
     ]
    },
    {
     "name": "stderr",
     "output_type": "stream",
     "text": [
      "processing:  24%|████████████████                                                   | 488/2030 [00:12<00:36, 42.60it/s]"
     ]
    },
    {
     "name": "stdout",
     "output_type": "stream",
     "text": [
      "no matching precipitation data for DEREH2MA\n"
     ]
    },
    {
     "name": "stderr",
     "output_type": "stream",
     "text": [
      "processing:  25%|████████████████▊                                                  | 508/2030 [00:13<00:37, 40.97it/s]"
     ]
    },
    {
     "name": "stdout",
     "output_type": "stream",
     "text": [
      "no matching precipitation data for DNBLANMA\n",
      "no matching precipitation data for DODEAGMA\n"
     ]
    },
    {
     "name": "stderr",
     "output_type": "stream",
     "text": [
      "processing:  27%|██████████████████                                                 | 546/2030 [00:14<00:43, 34.28it/s]"
     ]
    },
    {
     "name": "stdout",
     "output_type": "stream",
     "text": [
      "no matching precipitation data for ECBRRDMA\n"
     ]
    },
    {
     "name": "stderr",
     "output_type": "stream",
     "text": [
      "processing:  33%|█████████████████████▉                                             | 663/2030 [00:17<00:34, 39.07it/s]"
     ]
    },
    {
     "name": "stdout",
     "output_type": "stream",
     "text": [
      "no matching precipitation data for GFTRNKMA\n"
     ]
    },
    {
     "name": "stderr",
     "output_type": "stream",
     "text": [
      "processing:  36%|████████████████████████▎                                          | 738/2030 [00:19<00:33, 38.69it/s]"
     ]
    },
    {
     "name": "stdout",
     "output_type": "stream",
     "text": [
      "no matching precipitation data for GTCASTMA\n"
     ]
    },
    {
     "name": "stderr",
     "output_type": "stream",
     "text": [
      "processing:  37%|████████████████████████▊                                          | 752/2030 [00:20<00:31, 40.50it/s]"
     ]
    },
    {
     "name": "stdout",
     "output_type": "stream",
     "text": [
      "no matching precipitation data for GUNTH4MA\n"
     ]
    },
    {
     "name": "stderr",
     "output_type": "stream",
     "text": [
      "processing:  38%|█████████████████████████▏                                         | 762/2030 [00:20<00:31, 40.33it/s]"
     ]
    },
    {
     "name": "stdout",
     "output_type": "stream",
     "text": [
      "no matching precipitation data for HAGWORMA\n"
     ]
    },
    {
     "name": "stderr",
     "output_type": "stream",
     "text": [
      "processing:  40%|██████████████████████████▋                                        | 807/2030 [00:21<00:32, 37.09it/s]"
     ]
    },
    {
     "name": "stdout",
     "output_type": "stream",
     "text": [
      "no matching precipitation data for HEADWYMA\n"
     ]
    },
    {
     "name": "stderr",
     "output_type": "stream",
     "text": [
      "processing:  41%|███████████████████████████▌                                       | 834/2030 [00:22<00:29, 40.14it/s]"
     ]
    },
    {
     "name": "stdout",
     "output_type": "stream",
     "text": [
      "no matching precipitation data for HIOAK8MA\n"
     ]
    },
    {
     "name": "stderr",
     "output_type": "stream",
     "text": [
      "processing:  45%|██████████████████████████████▏                                    | 913/2030 [00:24<00:30, 36.61it/s]"
     ]
    },
    {
     "name": "stdout",
     "output_type": "stream",
     "text": [
      "no matching precipitation data for IRTHP1MA\n"
     ]
    },
    {
     "name": "stderr",
     "output_type": "stream",
     "text": [
      "processing:  46%|███████████████████████████████                                    | 942/2030 [00:25<00:29, 37.11it/s]"
     ]
    },
    {
     "name": "stdout",
     "output_type": "stream",
     "text": [
      "no matching precipitation data for KENNI3MA & KENNI4MA Merge\n"
     ]
    },
    {
     "name": "stderr",
     "output_type": "stream",
     "text": [
      "processing:  47%|███████████████████████████████▍                                   | 952/2030 [00:25<00:26, 40.60it/s]"
     ]
    },
    {
     "name": "stdout",
     "output_type": "stream",
     "text": [
      "no matching precipitation data for KETNBPMA\n",
      "no matching precipitation data for KETTTKMA\n"
     ]
    },
    {
     "name": "stderr",
     "output_type": "stream",
     "text": [
      "processing:  49%|████████████████████████████████▋                                  | 992/2030 [00:26<00:25, 40.03it/s]"
     ]
    },
    {
     "name": "stdout",
     "output_type": "stream",
     "text": [
      "no matching precipitation data for KSTCATMA\n",
      "no matching precipitation data for KSTJONMA\n"
     ]
    },
    {
     "name": "stderr",
     "output_type": "stream",
     "text": [
      "processing:  50%|████████████████████████████████▉                                 | 1012/2030 [00:27<00:26, 39.10it/s]"
     ]
    },
    {
     "name": "stdout",
     "output_type": "stream",
     "text": [
      "no matching precipitation data for LANGFDMA\n"
     ]
    },
    {
     "name": "stderr",
     "output_type": "stream",
     "text": [
      "processing:  50%|█████████████████████████████████▏                                | 1022/2030 [00:27<00:26, 38.04it/s]"
     ]
    },
    {
     "name": "stdout",
     "output_type": "stream",
     "text": [
      "no matching precipitation data for LBUCKBMA\n"
     ]
    },
    {
     "name": "stderr",
     "output_type": "stream",
     "text": [
      "processing:  52%|██████████████████████████████████                                | 1046/2030 [00:28<00:24, 40.38it/s]"
     ]
    },
    {
     "name": "stdout",
     "output_type": "stream",
     "text": [
      "no matching precipitation data for LITBYTMA\n",
      "no matching precipitation data for LITRURMA\n",
      "no matching precipitation data for LITTWNMA\n"
     ]
    },
    {
     "name": "stderr",
     "output_type": "stream",
     "text": [
      "processing:  54%|███████████████████████████████████▎                              | 1087/2030 [00:29<00:22, 41.91it/s]"
     ]
    },
    {
     "name": "stdout",
     "output_type": "stream",
     "text": [
      "no matching precipitation data for MARHAMMA\n"
     ]
    },
    {
     "name": "stderr",
     "output_type": "stream",
     "text": [
      "processing:  54%|███████████████████████████████████▊                              | 1101/2030 [00:29<00:23, 40.05it/s]"
     ]
    },
    {
     "name": "stdout",
     "output_type": "stream",
     "text": [
      "no matching precipitation data for MAWSLYMA\n"
     ]
    },
    {
     "name": "stderr",
     "output_type": "stream",
     "text": [
      "processing:  55%|████████████████████████████████████▎                             | 1115/2030 [00:30<00:23, 38.33it/s]"
     ]
    },
    {
     "name": "stdout",
     "output_type": "stream",
     "text": [
      "no matching precipitation data for MERSRDMA\n"
     ]
    },
    {
     "name": "stderr",
     "output_type": "stream",
     "text": [
      "processing:  57%|█████████████████████████████████████▌                            | 1157/2030 [00:31<00:21, 40.08it/s]"
     ]
    },
    {
     "name": "stdout",
     "output_type": "stream",
     "text": [
      "no matching precipitation data for MONSHNMA\n"
     ]
    },
    {
     "name": "stderr",
     "output_type": "stream",
     "text": [
      "processing:  58%|██████████████████████████████████████                            | 1171/2030 [00:31<00:23, 36.16it/s]"
     ]
    },
    {
     "name": "stdout",
     "output_type": "stream",
     "text": [
      "no matching precipitation data for MTHORPMA\n"
     ]
    },
    {
     "name": "stderr",
     "output_type": "stream",
     "text": [
      "processing:  64%|██████████████████████████████████████████                        | 1295/2030 [00:35<00:18, 39.23it/s]"
     ]
    },
    {
     "name": "stdout",
     "output_type": "stream",
     "text": [
      "no matching precipitation data for NRFTLBMA\n"
     ]
    },
    {
     "name": "stderr",
     "output_type": "stream",
     "text": [
      "processing:  66%|███████████████████████████████████████████▍                      | 1335/2030 [00:36<00:17, 39.22it/s]"
     ]
    },
    {
     "name": "stdout",
     "output_type": "stream",
     "text": [
      "no matching precipitation data for OLDHRDMA\n"
     ]
    },
    {
     "name": "stderr",
     "output_type": "stream",
     "text": [
      "processing:  66%|███████████████████████████████████████████▊                      | 1349/2030 [00:36<00:17, 39.08it/s]"
     ]
    },
    {
     "name": "stdout",
     "output_type": "stream",
     "text": [
      "no matching precipitation data for ORTSHGMA\n"
     ]
    },
    {
     "name": "stderr",
     "output_type": "stream",
     "text": [
      "processing:  67%|████████████████████████████████████████████▏                     | 1360/2030 [00:36<00:16, 39.95it/s]"
     ]
    },
    {
     "name": "stdout",
     "output_type": "stream",
     "text": [
      "no matching precipitation data for PAGNLRMA\n",
      "no matching precipitation data for PAGNLWMA\n"
     ]
    },
    {
     "name": "stderr",
     "output_type": "stream",
     "text": [
      "processing:  68%|████████████████████████████████████████████▉                     | 1382/2030 [00:37<00:14, 43.83it/s]"
     ]
    },
    {
     "name": "stdout",
     "output_type": "stream",
     "text": [
      "no matching precipitation data for PINCTOMA\n",
      "no matching precipitation data for PORTSTMA\n"
     ]
    },
    {
     "name": "stderr",
     "output_type": "stream",
     "text": [
      "processing:  69%|█████████████████████████████████████████████▎                    | 1392/2030 [00:37<00:15, 40.60it/s]"
     ]
    },
    {
     "name": "stdout",
     "output_type": "stream",
     "text": [
      "no matching precipitation data for PRHLFMMA\n"
     ]
    },
    {
     "name": "stderr",
     "output_type": "stream",
     "text": [
      "processing:  70%|██████████████████████████████████████████████▏                   | 1419/2030 [00:38<00:16, 38.07it/s]"
     ]
    },
    {
     "name": "stdout",
     "output_type": "stream",
     "text": [
      "no matching precipitation data for RECTRYMA\n"
     ]
    },
    {
     "name": "stderr",
     "output_type": "stream",
     "text": [
      "processing:  70%|██████████████████████████████████████████████▍                   | 1429/2030 [00:38<00:14, 40.68it/s]"
     ]
    },
    {
     "name": "stdout",
     "output_type": "stream",
     "text": [
      "no matching precipitation data for REEPHNMA\n"
     ]
    },
    {
     "name": "stderr",
     "output_type": "stream",
     "text": [
      "processing:  72%|███████████████████████████████████████████████▎                  | 1456/2030 [00:39<00:16, 34.04it/s]"
     ]
    },
    {
     "name": "stdout",
     "output_type": "stream",
     "text": [
      "no matching precipitation data for ROWHDGMA\n"
     ]
    },
    {
     "name": "stderr",
     "output_type": "stream",
     "text": [
      "processing:  73%|███████████████████████████████████████████████▉                  | 1473/2030 [00:39<00:15, 36.93it/s]"
     ]
    },
    {
     "name": "stdout",
     "output_type": "stream",
     "text": [
      "no matching precipitation data for RUSHT1MA\n"
     ]
    },
    {
     "name": "stderr",
     "output_type": "stream",
     "text": [
      "processing:  74%|████████████████████████████████████████████████▋                 | 1496/2030 [00:40<00:13, 38.56it/s]"
     ]
    },
    {
     "name": "stdout",
     "output_type": "stream",
     "text": [
      "no matching precipitation data for SAXSTOMA\n"
     ]
    },
    {
     "name": "stderr",
     "output_type": "stream",
     "text": [
      "processing:  74%|████████████████████████████████████████████████▉                 | 1506/2030 [00:40<00:12, 40.39it/s]"
     ]
    },
    {
     "name": "stdout",
     "output_type": "stream",
     "text": [
      "no matching precipitation data for SCOPWIMA\n",
      "no matching precipitation data for SCROOBMA\n"
     ]
    },
    {
     "name": "stderr",
     "output_type": "stream",
     "text": [
      "processing:  75%|█████████████████████████████████████████████████▎                | 1517/2030 [00:40<00:11, 44.04it/s]"
     ]
    },
    {
     "name": "stdout",
     "output_type": "stream",
     "text": [
      "no matching precipitation data for SHAKESMA\n"
     ]
    },
    {
     "name": "stderr",
     "output_type": "stream",
     "text": [
      "processing:  76%|██████████████████████████████████████████████████▎               | 1547/2030 [00:41<00:14, 32.55it/s]"
     ]
    },
    {
     "name": "stdout",
     "output_type": "stream",
     "text": [
      "no matching precipitation data for SICKLSMA\n"
     ]
    },
    {
     "name": "stderr",
     "output_type": "stream",
     "text": [
      "processing:  80%|████████████████████████████████████████████████████▋             | 1621/2030 [00:44<00:10, 37.50it/s]"
     ]
    },
    {
     "name": "stdout",
     "output_type": "stream",
     "text": [
      "no matching precipitation data for STANAVMA\n"
     ]
    },
    {
     "name": "stderr",
     "output_type": "stream",
     "text": [
      "processing:  81%|█████████████████████████████████████████████████████▏            | 1637/2030 [00:44<00:08, 45.33it/s]"
     ]
    },
    {
     "name": "stdout",
     "output_type": "stream",
     "text": [
      "no matching precipitation data for STBMHLMA\n",
      "no matching precipitation data for STELRDMA\n",
      "no matching precipitation data for STEPPGMA\n",
      "no matching precipitation data for STEWATMA\n"
     ]
    },
    {
     "name": "stderr",
     "output_type": "stream",
     "text": [
      "processing:  81%|█████████████████████████████████████████████████████▌            | 1647/2030 [00:44<00:09, 38.70it/s]"
     ]
    },
    {
     "name": "stdout",
     "output_type": "stream",
     "text": [
      "no matching precipitation data for STHSTRMA\n",
      "no matching precipitation data for STJAMRMA\n"
     ]
    },
    {
     "name": "stderr",
     "output_type": "stream",
     "text": [
      "processing:  83%|██████████████████████████████████████████████████████▋           | 1683/2030 [00:45<00:09, 38.24it/s]"
     ]
    },
    {
     "name": "stdout",
     "output_type": "stream",
     "text": [
      "no matching precipitation data for STUDFLMA\n",
      "no matching precipitation data for STUKLYMA\n"
     ]
    },
    {
     "name": "stderr",
     "output_type": "stream",
     "text": [
      "processing:  84%|███████████████████████████████████████████████████████▎          | 1703/2030 [00:46<00:08, 39.88it/s]"
     ]
    },
    {
     "name": "stdout",
     "output_type": "stream",
     "text": [
      "no matching precipitation data for SUDCWLMA\n"
     ]
    },
    {
     "name": "stderr",
     "output_type": "stream",
     "text": [
      "processing:  86%|████████████████████████████████████████████████████████▌         | 1739/2030 [00:47<00:08, 35.39it/s]"
     ]
    },
    {
     "name": "stdout",
     "output_type": "stream",
     "text": [
      "no matching precipitation data for SUTTERMA\n",
      "no matching precipitation data for SWAFF NORTH & CASTLE ACRE DMA\n"
     ]
    },
    {
     "name": "stderr",
     "output_type": "stream",
     "text": [
      "processing:  87%|█████████████████████████████████████████████████████████▏        | 1760/2030 [00:47<00:06, 38.88it/s]"
     ]
    },
    {
     "name": "stdout",
     "output_type": "stream",
     "text": [
      "no matching precipitation data for SYWL01MA\n"
     ]
    },
    {
     "name": "stderr",
     "output_type": "stream",
     "text": [
      "processing:  89%|██████████████████████████████████████████████████████████▍       | 1797/2030 [00:48<00:05, 39.08it/s]"
     ]
    },
    {
     "name": "stdout",
     "output_type": "stream",
     "text": [
      "no matching precipitation data for THORPNMA\n"
     ]
    },
    {
     "name": "stderr",
     "output_type": "stream",
     "text": [
      "processing:  90%|███████████████████████████████████████████████████████████       | 1818/2030 [00:49<00:05, 42.00it/s]"
     ]
    },
    {
     "name": "stdout",
     "output_type": "stream",
     "text": [
      "no matching precipitation data for TODDCNMA\n",
      "no matching precipitation data for TOSRESMA\n"
     ]
    },
    {
     "name": "stderr",
     "output_type": "stream",
     "text": [
      "processing:  93%|█████████████████████████████████████████████████████████████▋    | 1898/2030 [00:51<00:03, 33.07it/s]"
     ]
    },
    {
     "name": "stdout",
     "output_type": "stream",
     "text": [
      "no matching precipitation data for WELFRDMA\n"
     ]
    },
    {
     "name": "stderr",
     "output_type": "stream",
     "text": [
      "processing:  94%|██████████████████████████████████████████████████████████████▎   | 1915/2030 [00:52<00:03, 32.17it/s]"
     ]
    },
    {
     "name": "stdout",
     "output_type": "stream",
     "text": [
      "no matching precipitation data for WES355MA\n"
     ]
    },
    {
     "name": "stderr",
     "output_type": "stream",
     "text": [
      "processing:  96%|███████████████████████████████████████████████████████████████   | 1940/2030 [00:53<00:02, 30.81it/s]"
     ]
    },
    {
     "name": "stdout",
     "output_type": "stream",
     "text": [
      "no matching precipitation data for Wiggenhalls & Terrington St Clem DMA\n"
     ]
    },
    {
     "name": "stderr",
     "output_type": "stream",
     "text": [
      "processing:  97%|████████████████████████████████████████████████████████████████  | 1970/2030 [00:53<00:01, 41.34it/s]"
     ]
    },
    {
     "name": "stdout",
     "output_type": "stream",
     "text": [
      "no matching precipitation data for WISMBXMA\n",
      "no matching precipitation data for WITCARMA\n"
     ]
    },
    {
     "name": "stderr",
     "output_type": "stream",
     "text": [
      "processing: 100%|██████████████████████████████████████████████████████████████████| 2030/2030 [00:55<00:00, 36.43it/s]"
     ]
    },
    {
     "name": "stdout",
     "output_type": "stream",
     "text": [
      "no matching precipitation data for YLLINGMA\n"
     ]
    },
    {
     "name": "stderr",
     "output_type": "stream",
     "text": [
      "\n"
     ]
    }
   ],
   "source": [
    "for filename in tqdm(os.listdir(flow_data_path),desc = \"processing\"):\n",
    "    if filename.endswith('.csv'):\n",
    "        dma_code = filename.split('.')[0]\n",
    "        if dma_code in precipitation_dma:\n",
    "            flow_file_path = os.path.join(flow_data_path,filename)\n",
    "            flow_data = pd.read_csv(flow_file_path)\n",
    "            flow_data.rename(columns={'Date/Time':'DateTime'}, inplace = True)\n",
    "            precipitation_file_path = os.path.join(precipitation_data_path,precipitation_dma[dma_code])\n",
    "            precipitation_data = pd.read_csv(precipitation_file_path)\n",
    "            data_merged = pd.merge(flow_data,precipitation_data, on='DateTime', how = 'left')\n",
    "            data_merged.to_csv(f\"{output_path}/{dma_code}.csv\")\n",
    "        else:\n",
    "            missing_precipitation_dma.append(dma_code)\n",
    "            print(f\"no matching precipitation data for {dma_code}\")"
   ]
  },
  {
   "cell_type": "code",
   "execution_count": 46,
   "id": "9a59a517-fec4-4913-9172-73e1368e8415",
   "metadata": {},
   "outputs": [
    {
     "data": {
      "text/plain": [
       "88"
      ]
     },
     "execution_count": 46,
     "metadata": {},
     "output_type": "execute_result"
    }
   ],
   "source": [
    "num = len(missing_precipitation_dma)\n",
    "num"
   ]
  },
  {
   "cell_type": "code",
   "execution_count": 47,
   "id": "773a8a28-a821-483f-8463-fc3b8b580a13",
   "metadata": {},
   "outputs": [
    {
     "data": {
      "text/html": [
       "<div>\n",
       "<style scoped>\n",
       "    .dataframe tbody tr th:only-of-type {\n",
       "        vertical-align: middle;\n",
       "    }\n",
       "\n",
       "    .dataframe tbody tr th {\n",
       "        vertical-align: top;\n",
       "    }\n",
       "\n",
       "    .dataframe thead th {\n",
       "        text-align: right;\n",
       "    }\n",
       "</style>\n",
       "<table border=\"1\" class=\"dataframe\">\n",
       "  <thead>\n",
       "    <tr style=\"text-align: right;\">\n",
       "      <th></th>\n",
       "      <th>DMASHORTNA</th>\n",
       "    </tr>\n",
       "  </thead>\n",
       "  <tbody>\n",
       "    <tr>\n",
       "      <th>0</th>\n",
       "      <td>ADELDRMA</td>\n",
       "    </tr>\n",
       "    <tr>\n",
       "      <th>1</th>\n",
       "      <td>ARHIL1MA</td>\n",
       "    </tr>\n",
       "    <tr>\n",
       "      <th>2</th>\n",
       "      <td>ARLESDMA</td>\n",
       "    </tr>\n",
       "    <tr>\n",
       "      <th>3</th>\n",
       "      <td>BACONSMA &amp; ITTRNHMA Merge</td>\n",
       "    </tr>\n",
       "    <tr>\n",
       "      <th>4</th>\n",
       "      <td>BARRODMA</td>\n",
       "    </tr>\n",
       "  </tbody>\n",
       "</table>\n",
       "</div>"
      ],
      "text/plain": [
       "                  DMASHORTNA\n",
       "0                   ADELDRMA\n",
       "1                   ARHIL1MA\n",
       "2                   ARLESDMA\n",
       "3  BACONSMA & ITTRNHMA Merge\n",
       "4                   BARRODMA"
      ]
     },
     "execution_count": 47,
     "metadata": {},
     "output_type": "execute_result"
    }
   ],
   "source": [
    "missing_precipitation_df = pd.DataFrame({\n",
    "    'DMASHORTNA':missing_precipitation_dma\n",
    "})\n",
    "missing_precipitation_df.head()"
   ]
  },
  {
   "cell_type": "code",
   "execution_count": 50,
   "id": "a549eb0f-a52d-4f32-8d82-5419cb851b74",
   "metadata": {},
   "outputs": [],
   "source": [
    "missing_precipitation_df.to_csv(\"D:\\\\qing_research\\\\1_rainfall_water\\\\1_rainfall_water_network\\\\data\\\\precipitation\\\\combine\\\\missing_precipitation.csv\", index=False)"
   ]
  },
  {
   "cell_type": "code",
   "execution_count": 51,
   "id": "8295275b-8fc5-49b8-8602-2f3305de112d",
   "metadata": {},
   "outputs": [
    {
     "data": {
      "text/html": [
       "<div>\n",
       "<style scoped>\n",
       "    .dataframe tbody tr th:only-of-type {\n",
       "        vertical-align: middle;\n",
       "    }\n",
       "\n",
       "    .dataframe tbody tr th {\n",
       "        vertical-align: top;\n",
       "    }\n",
       "\n",
       "    .dataframe thead th {\n",
       "        text-align: right;\n",
       "    }\n",
       "</style>\n",
       "<table border=\"1\" class=\"dataframe\">\n",
       "  <thead>\n",
       "    <tr style=\"text-align: right;\">\n",
       "      <th></th>\n",
       "      <th>NETWORKBOU</th>\n",
       "      <th>MIDPOINTGR</th>\n",
       "      <th>DMALONGNAM</th>\n",
       "      <th>DZ_SHORT_N</th>\n",
       "      <th>PZ_SHORT_N</th>\n",
       "      <th>DMA_MODELL</th>\n",
       "      <th>DMA_MODE00</th>\n",
       "      <th>NETWORK_MA</th>\n",
       "      <th>DMASHORTNA</th>\n",
       "      <th>WSZSHORTNA</th>\n",
       "      <th>geometry</th>\n",
       "      <th>centroid</th>\n",
       "    </tr>\n",
       "  </thead>\n",
       "  <tbody>\n",
       "    <tr>\n",
       "      <th>0</th>\n",
       "      <td>Grantham</td>\n",
       "      <td>TF0997418609</td>\n",
       "      <td>BOURNE AUSTERBY DMA</td>\n",
       "      <td>BOURNEDZ</td>\n",
       "      <td>PZ22</td>\n",
       "      <td>Bourne</td>\n",
       "      <td>BOURNWMB</td>\n",
       "      <td>LWSG</td>\n",
       "      <td>BOAUSTMA</td>\n",
       "      <td>KN60</td>\n",
       "      <td>POLYGON Z ((-0.3745412625048665 52.76106985956...</td>\n",
       "      <td>POINT (-0.3726786471348705 52.75033759147609)</td>\n",
       "    </tr>\n",
       "    <tr>\n",
       "      <th>1</th>\n",
       "      <td>Ipswich</td>\n",
       "      <td>TM1727947391</td>\n",
       "      <td>WESTERFIELD DMA</td>\n",
       "      <td>PARKWBDZ</td>\n",
       "      <td>PZ60</td>\n",
       "      <td>Ipswich</td>\n",
       "      <td>IPSWIWMB</td>\n",
       "      <td>NWSI</td>\n",
       "      <td>IPSRT7MA</td>\n",
       "      <td>SS42</td>\n",
       "      <td>POLYGON Z ((1.1616512887229398 52.072964806384...</td>\n",
       "      <td>POINT (1.1697809285993002 52.083742387264635)</td>\n",
       "    </tr>\n",
       "    <tr>\n",
       "      <th>2</th>\n",
       "      <td>NaN</td>\n",
       "      <td>NaN</td>\n",
       "      <td>NaN</td>\n",
       "      <td>NaN</td>\n",
       "      <td>NaN</td>\n",
       "      <td>NaN</td>\n",
       "      <td>NaN</td>\n",
       "      <td>RWSP</td>\n",
       "      <td>PRECWRDV</td>\n",
       "      <td>NaN</td>\n",
       "      <td>POLYGON Z ((-1.172600448562448 52.185499886517...</td>\n",
       "      <td>POINT (-1.171914782454227 52.18571141462913)</td>\n",
       "    </tr>\n",
       "    <tr>\n",
       "      <th>3</th>\n",
       "      <td>Grantham</td>\n",
       "      <td>TF1324513086</td>\n",
       "      <td>LANGTOFT DMA</td>\n",
       "      <td>WLSSTHDZ</td>\n",
       "      <td>PZ22</td>\n",
       "      <td>Market Deeping</td>\n",
       "      <td>MARKEWMB</td>\n",
       "      <td>LWSG</td>\n",
       "      <td>LANGTOMA</td>\n",
       "      <td>KN63</td>\n",
       "      <td>POLYGON Z ((-0.3428902312406412 52.68541442103...</td>\n",
       "      <td>POINT (-0.3130733755391288 52.705446336193404)</td>\n",
       "    </tr>\n",
       "    <tr>\n",
       "      <th>4</th>\n",
       "      <td>Grantham</td>\n",
       "      <td>TF1086809217</td>\n",
       "      <td>WEST DEEPING DMA</td>\n",
       "      <td>TALLPUDZ</td>\n",
       "      <td>PZ22</td>\n",
       "      <td>Stamford</td>\n",
       "      <td>STAMFWMB</td>\n",
       "      <td>LWSG</td>\n",
       "      <td>WDEEPIMA</td>\n",
       "      <td>KN61</td>\n",
       "      <td>POLYGON Z ((-0.3619211212177417 52.67111452244...</td>\n",
       "      <td>POINT (-0.3646283910940337 52.66840175546201)</td>\n",
       "    </tr>\n",
       "  </tbody>\n",
       "</table>\n",
       "</div>"
      ],
      "text/plain": [
       "  NETWORKBOU    MIDPOINTGR           DMALONGNAM DZ_SHORT_N PZ_SHORT_N  \\\n",
       "0   Grantham  TF0997418609  BOURNE AUSTERBY DMA   BOURNEDZ       PZ22   \n",
       "1    Ipswich  TM1727947391      WESTERFIELD DMA   PARKWBDZ       PZ60   \n",
       "2        NaN           NaN                  NaN        NaN        NaN   \n",
       "3   Grantham  TF1324513086         LANGTOFT DMA   WLSSTHDZ       PZ22   \n",
       "4   Grantham  TF1086809217     WEST DEEPING DMA   TALLPUDZ       PZ22   \n",
       "\n",
       "       DMA_MODELL DMA_MODE00 NETWORK_MA DMASHORTNA WSZSHORTNA  \\\n",
       "0          Bourne   BOURNWMB       LWSG   BOAUSTMA       KN60   \n",
       "1         Ipswich   IPSWIWMB       NWSI   IPSRT7MA       SS42   \n",
       "2             NaN        NaN       RWSP   PRECWRDV        NaN   \n",
       "3  Market Deeping   MARKEWMB       LWSG   LANGTOMA       KN63   \n",
       "4        Stamford   STAMFWMB       LWSG   WDEEPIMA       KN61   \n",
       "\n",
       "                                            geometry  \\\n",
       "0  POLYGON Z ((-0.3745412625048665 52.76106985956...   \n",
       "1  POLYGON Z ((1.1616512887229398 52.072964806384...   \n",
       "2  POLYGON Z ((-1.172600448562448 52.185499886517...   \n",
       "3  POLYGON Z ((-0.3428902312406412 52.68541442103...   \n",
       "4  POLYGON Z ((-0.3619211212177417 52.67111452244...   \n",
       "\n",
       "                                         centroid  \n",
       "0   POINT (-0.3726786471348705 52.75033759147609)  \n",
       "1   POINT (1.1697809285993002 52.083742387264635)  \n",
       "2    POINT (-1.171914782454227 52.18571141462913)  \n",
       "3  POINT (-0.3130733755391288 52.705446336193404)  \n",
       "4   POINT (-0.3646283910940337 52.66840175546201)  "
      ]
     },
     "execution_count": 51,
     "metadata": {},
     "output_type": "execute_result"
    }
   ],
   "source": [
    "data_centroid = pd.read_csv('DMA_with_centroid.csv')\n",
    "data_centroid.head()"
   ]
  },
  {
   "cell_type": "code",
   "execution_count": 61,
   "id": "727a97e1-e7a7-42b1-8bd0-1f7cab4a5d11",
   "metadata": {},
   "outputs": [
    {
     "data": {
      "text/plain": [
       "['ADELDRMA',\n",
       " 'ARHIL1MA',\n",
       " 'ARLESDMA',\n",
       " 'BACONSMA & ITTRNHMA Merge',\n",
       " 'BARRODMA',\n",
       " 'BHTRNKMA',\n",
       " 'BRABCSMA',\n",
       " 'BRAHGTMA',\n",
       " 'BRAKVFMA',\n",
       " 'BRGHTNMA',\n",
       " 'BURTONMA',\n",
       " 'Burwell & Exning DMA',\n",
       " 'CAILOWMA',\n",
       " 'CLIPSHMA',\n",
       " 'COLCBKMA',\n",
       " 'COLCLDMA',\n",
       " 'COLCLXMA',\n",
       " 'COLCNTMA',\n",
       " 'COLCPGMA',\n",
       " 'COLCSTMA',\n",
       " 'CORHSTMA',\n",
       " 'CORRWBMA',\n",
       " 'CROMWLMA',\n",
       " 'DEREH2MA',\n",
       " 'DNBLANMA',\n",
       " 'DODEAGMA',\n",
       " 'ECBRRDMA',\n",
       " 'GFTRNKMA',\n",
       " 'GTCASTMA',\n",
       " 'GUNTH4MA',\n",
       " 'HAGWORMA',\n",
       " 'HEADWYMA',\n",
       " 'HIOAK8MA',\n",
       " 'IRTHP1MA',\n",
       " 'KENNI3MA & KENNI4MA Merge',\n",
       " 'KETNBPMA',\n",
       " 'KETTTKMA',\n",
       " 'KSTCATMA',\n",
       " 'KSTJONMA',\n",
       " 'LANGFDMA',\n",
       " 'LBUCKBMA',\n",
       " 'LITBYTMA',\n",
       " 'LITRURMA',\n",
       " 'LITTWNMA',\n",
       " 'MARHAMMA',\n",
       " 'MAWSLYMA',\n",
       " 'MERSRDMA',\n",
       " 'MONSHNMA',\n",
       " 'MTHORPMA',\n",
       " 'NRFTLBMA',\n",
       " 'OLDHRDMA',\n",
       " 'ORTSHGMA',\n",
       " 'PAGNLRMA',\n",
       " 'PAGNLWMA',\n",
       " 'PINCTOMA',\n",
       " 'PORTSTMA',\n",
       " 'PRHLFMMA',\n",
       " 'RECTRYMA',\n",
       " 'REEPHNMA',\n",
       " 'ROWHDGMA',\n",
       " 'RUSHT1MA',\n",
       " 'SAXSTOMA',\n",
       " 'SCOPWIMA',\n",
       " 'SCROOBMA',\n",
       " 'SHAKESMA',\n",
       " 'SICKLSMA',\n",
       " 'STANAVMA',\n",
       " 'STBMHLMA',\n",
       " 'STELRDMA',\n",
       " 'STEPPGMA',\n",
       " 'STEWATMA',\n",
       " 'STHSTRMA',\n",
       " 'STJAMRMA',\n",
       " 'STUDFLMA',\n",
       " 'STUKLYMA',\n",
       " 'SUDCWLMA',\n",
       " 'SUTTERMA',\n",
       " 'SWAFF NORTH & CASTLE ACRE DMA',\n",
       " 'SYWL01MA',\n",
       " 'THORPNMA',\n",
       " 'TODDCNMA',\n",
       " 'TOSRESMA',\n",
       " 'WELFRDMA',\n",
       " 'WES355MA',\n",
       " 'Wiggenhalls & Terrington St Clem DMA',\n",
       " 'WISMBXMA',\n",
       " 'WITCARMA',\n",
       " 'YLLINGMA']"
      ]
     },
     "execution_count": 61,
     "metadata": {},
     "output_type": "execute_result"
    }
   ],
   "source": [
    "missing_precipitation_dma = list(missing_precipitation_dma)\n",
    "missing_precipitation_dma"
   ]
  },
  {
   "cell_type": "code",
   "execution_count": 64,
   "id": "a98061cc-701e-447a-a56b-acb51757166b",
   "metadata": {},
   "outputs": [
    {
     "ename": "TypeError",
     "evalue": "only list-like objects are allowed to be passed to isin(), you passed a `str`",
     "output_type": "error",
     "traceback": [
      "\u001b[1;31m---------------------------------------------------------------------------\u001b[0m",
      "\u001b[1;31mTypeError\u001b[0m                                 Traceback (most recent call last)",
      "Cell \u001b[1;32mIn[64], line 1\u001b[0m\n\u001b[1;32m----> 1\u001b[0m filtered_centroids \u001b[38;5;241m=\u001b[39m data_centroid[\u001b[43mdata_centroid\u001b[49m\u001b[43m[\u001b[49m\u001b[38;5;124;43m\"\u001b[39;49m\u001b[38;5;124;43mDMASHORTNA\u001b[39;49m\u001b[38;5;124;43m\"\u001b[39;49m\u001b[43m]\u001b[49m\u001b[38;5;241;43m.\u001b[39;49m\u001b[43misin\u001b[49m\u001b[43m(\u001b[49m\u001b[38;5;124;43m'\u001b[39;49m\u001b[38;5;124;43mADELDRMA\u001b[39;49m\u001b[38;5;124;43m'\u001b[39;49m\u001b[43m)\u001b[49m]\n",
      "File \u001b[1;32m~\\AppData\\Local\\Programs\\Python\\Python312\\Lib\\site-packages\\pandas\\core\\series.py:5559\u001b[0m, in \u001b[0;36mSeries.isin\u001b[1;34m(self, values)\u001b[0m\n\u001b[0;32m   5486\u001b[0m \u001b[38;5;28;01mdef\u001b[39;00m \u001b[38;5;21misin\u001b[39m(\u001b[38;5;28mself\u001b[39m, values) \u001b[38;5;241m-\u001b[39m\u001b[38;5;241m>\u001b[39m Series:\n\u001b[0;32m   5487\u001b[0m \u001b[38;5;250m    \u001b[39m\u001b[38;5;124;03m\"\"\"\u001b[39;00m\n\u001b[0;32m   5488\u001b[0m \u001b[38;5;124;03m    Whether elements in Series are contained in `values`.\u001b[39;00m\n\u001b[0;32m   5489\u001b[0m \n\u001b[1;32m   (...)\u001b[0m\n\u001b[0;32m   5557\u001b[0m \u001b[38;5;124;03m    dtype: bool\u001b[39;00m\n\u001b[0;32m   5558\u001b[0m \u001b[38;5;124;03m    \"\"\"\u001b[39;00m\n\u001b[1;32m-> 5559\u001b[0m     result \u001b[38;5;241m=\u001b[39m \u001b[43malgorithms\u001b[49m\u001b[38;5;241;43m.\u001b[39;49m\u001b[43misin\u001b[49m\u001b[43m(\u001b[49m\u001b[38;5;28;43mself\u001b[39;49m\u001b[38;5;241;43m.\u001b[39;49m\u001b[43m_values\u001b[49m\u001b[43m,\u001b[49m\u001b[43m \u001b[49m\u001b[43mvalues\u001b[49m\u001b[43m)\u001b[49m\n\u001b[0;32m   5560\u001b[0m     \u001b[38;5;28;01mreturn\u001b[39;00m \u001b[38;5;28mself\u001b[39m\u001b[38;5;241m.\u001b[39m_constructor(result, index\u001b[38;5;241m=\u001b[39m\u001b[38;5;28mself\u001b[39m\u001b[38;5;241m.\u001b[39mindex, copy\u001b[38;5;241m=\u001b[39m\u001b[38;5;28;01mFalse\u001b[39;00m)\u001b[38;5;241m.\u001b[39m__finalize__(\n\u001b[0;32m   5561\u001b[0m         \u001b[38;5;28mself\u001b[39m, method\u001b[38;5;241m=\u001b[39m\u001b[38;5;124m\"\u001b[39m\u001b[38;5;124misin\u001b[39m\u001b[38;5;124m\"\u001b[39m\n\u001b[0;32m   5562\u001b[0m     )\n",
      "File \u001b[1;32m~\\AppData\\Local\\Programs\\Python\\Python312\\Lib\\site-packages\\pandas\\core\\algorithms.py:477\u001b[0m, in \u001b[0;36misin\u001b[1;34m(comps, values)\u001b[0m\n\u001b[0;32m    472\u001b[0m     \u001b[38;5;28;01mraise\u001b[39;00m \u001b[38;5;167;01mTypeError\u001b[39;00m(\n\u001b[0;32m    473\u001b[0m         \u001b[38;5;124m\"\u001b[39m\u001b[38;5;124monly list-like objects are allowed to be passed \u001b[39m\u001b[38;5;124m\"\u001b[39m\n\u001b[0;32m    474\u001b[0m         \u001b[38;5;124mf\u001b[39m\u001b[38;5;124m\"\u001b[39m\u001b[38;5;124mto isin(), you passed a `\u001b[39m\u001b[38;5;132;01m{\u001b[39;00m\u001b[38;5;28mtype\u001b[39m(comps)\u001b[38;5;241m.\u001b[39m\u001b[38;5;18m__name__\u001b[39m\u001b[38;5;132;01m}\u001b[39;00m\u001b[38;5;124m`\u001b[39m\u001b[38;5;124m\"\u001b[39m\n\u001b[0;32m    475\u001b[0m     )\n\u001b[0;32m    476\u001b[0m \u001b[38;5;28;01mif\u001b[39;00m \u001b[38;5;129;01mnot\u001b[39;00m is_list_like(values):\n\u001b[1;32m--> 477\u001b[0m     \u001b[38;5;28;01mraise\u001b[39;00m \u001b[38;5;167;01mTypeError\u001b[39;00m(\n\u001b[0;32m    478\u001b[0m         \u001b[38;5;124m\"\u001b[39m\u001b[38;5;124monly list-like objects are allowed to be passed \u001b[39m\u001b[38;5;124m\"\u001b[39m\n\u001b[0;32m    479\u001b[0m         \u001b[38;5;124mf\u001b[39m\u001b[38;5;124m\"\u001b[39m\u001b[38;5;124mto isin(), you passed a `\u001b[39m\u001b[38;5;132;01m{\u001b[39;00m\u001b[38;5;28mtype\u001b[39m(values)\u001b[38;5;241m.\u001b[39m\u001b[38;5;18m__name__\u001b[39m\u001b[38;5;132;01m}\u001b[39;00m\u001b[38;5;124m`\u001b[39m\u001b[38;5;124m\"\u001b[39m\n\u001b[0;32m    480\u001b[0m     )\n\u001b[0;32m    482\u001b[0m \u001b[38;5;28;01mif\u001b[39;00m \u001b[38;5;129;01mnot\u001b[39;00m \u001b[38;5;28misinstance\u001b[39m(values, (ABCIndex, ABCSeries, ABCExtensionArray, np\u001b[38;5;241m.\u001b[39mndarray)):\n\u001b[0;32m    483\u001b[0m     orig_values \u001b[38;5;241m=\u001b[39m \u001b[38;5;28mlist\u001b[39m(values)\n",
      "\u001b[1;31mTypeError\u001b[0m: only list-like objects are allowed to be passed to isin(), you passed a `str`"
     ]
    }
   ],
   "source": [
    "filtered_centroids = data_centroid[data_centroid[\"DMASHORTNA\"].isin('ADELDRMA')]"
   ]
  },
  {
   "cell_type": "code",
   "execution_count": 63,
   "id": "65ffe907-eb50-472d-b954-48a6f621bd40",
   "metadata": {},
   "outputs": [
    {
     "data": {
      "text/html": [
       "<div>\n",
       "<style scoped>\n",
       "    .dataframe tbody tr th:only-of-type {\n",
       "        vertical-align: middle;\n",
       "    }\n",
       "\n",
       "    .dataframe tbody tr th {\n",
       "        vertical-align: top;\n",
       "    }\n",
       "\n",
       "    .dataframe thead th {\n",
       "        text-align: right;\n",
       "    }\n",
       "</style>\n",
       "<table border=\"1\" class=\"dataframe\">\n",
       "  <thead>\n",
       "    <tr style=\"text-align: right;\">\n",
       "      <th></th>\n",
       "      <th>NETWORKBOU</th>\n",
       "      <th>MIDPOINTGR</th>\n",
       "      <th>DMALONGNAM</th>\n",
       "      <th>DZ_SHORT_N</th>\n",
       "      <th>PZ_SHORT_N</th>\n",
       "      <th>DMA_MODELL</th>\n",
       "      <th>DMA_MODE00</th>\n",
       "      <th>NETWORK_MA</th>\n",
       "      <th>DMASHORTNA</th>\n",
       "      <th>WSZSHORTNA</th>\n",
       "      <th>geometry</th>\n",
       "      <th>centroid</th>\n",
       "    </tr>\n",
       "  </thead>\n",
       "  <tbody>\n",
       "  </tbody>\n",
       "</table>\n",
       "</div>"
      ],
      "text/plain": [
       "Empty DataFrame\n",
       "Columns: [NETWORKBOU, MIDPOINTGR, DMALONGNAM, DZ_SHORT_N, PZ_SHORT_N, DMA_MODELL, DMA_MODE00, NETWORK_MA, DMASHORTNA, WSZSHORTNA, geometry, centroid]\n",
       "Index: []"
      ]
     },
     "execution_count": 63,
     "metadata": {},
     "output_type": "execute_result"
    }
   ],
   "source": [
    "filtered_centroids"
   ]
  },
  {
   "cell_type": "code",
   "execution_count": null,
   "id": "5001ca88-a1ef-4684-b90f-b2a217dd65cc",
   "metadata": {},
   "outputs": [],
   "source": []
  }
 ],
 "metadata": {
  "kernelspec": {
   "display_name": "Python 3 (ipykernel)",
   "language": "python",
   "name": "python3"
  },
  "language_info": {
   "codemirror_mode": {
    "name": "ipython",
    "version": 3
   },
   "file_extension": ".py",
   "mimetype": "text/x-python",
   "name": "python",
   "nbconvert_exporter": "python",
   "pygments_lexer": "ipython3",
   "version": "3.12.4"
  }
 },
 "nbformat": 4,
 "nbformat_minor": 5
}
