{
 "cells": [
  {
   "cell_type": "code",
   "execution_count": 5,
   "id": "eec030e4-3745-4a78-bf65-c6622382cdcf",
   "metadata": {},
   "outputs": [],
   "source": [
    "import pandas as pd\n",
    "import os\n",
    "from tqdm import tqdm"
   ]
  },
  {
   "cell_type": "code",
   "execution_count": 2,
   "id": "98ef5d68-4a3a-43e4-87f5-46fc87729234",
   "metadata": {},
   "outputs": [],
   "source": [
    "output_path = \"D:\\\\qing_research\\\\1_rainfall_water\\\\1_rainfall_water_network\\\\data\\\\repair\\\\by_dma\"\n",
    "repair_path = \"D:\\\\qing_research\\\\1_rainfall_water\\\\1_rainfall_water_network\\\\data\\\\repair\\\\Repairs.xlsx\""
   ]
  },
  {
   "cell_type": "code",
   "execution_count": 3,
   "id": "cfad2ae7-0730-4a38-a77b-c23672b6e8c1",
   "metadata": {},
   "outputs": [],
   "source": [
    "repair_data = pd.read_excel(repair_path)"
   ]
  },
  {
   "cell_type": "code",
   "execution_count": 6,
   "id": "9428c7b2-3bd0-4521-abd9-ed0c6686d24e",
   "metadata": {},
   "outputs": [
    {
     "name": "stderr",
     "output_type": "stream",
     "text": [
      "processing: 100%|█████████████████████████████████████████████████████████████████| 1999/1999 [00:02<00:00, 812.30it/s]\n"
     ]
    }
   ],
   "source": [
    "for dma, group in tqdm(repair_data.groupby(\"DMA\"),desc=\"processing\"):\n",
    "    output_file_path = os.path.join(output_path,f\"{dma}.csv\")\n",
    "    group.to_csv(output_file_path,index = False)\n",
    "    "
   ]
  },
  {
   "cell_type": "code",
   "execution_count": 7,
   "id": "36b6bf27-14dc-4e6e-9d52-77d16387cc03",
   "metadata": {},
   "outputs": [
    {
     "data": {
      "text/plain": [
       "8"
      ]
     },
     "execution_count": 7,
     "metadata": {},
     "output_type": "execute_result"
    }
   ],
   "source": [
    "unique_repair_types = repair_data['TUP'].nunique()\n",
    "unique_repair_types"
   ]
  },
  {
   "cell_type": "code",
   "execution_count": 8,
   "id": "a95d2388-d5b2-4ee5-a36b-ecffb61dd031",
   "metadata": {},
   "outputs": [
    {
     "data": {
      "text/plain": [
       "TUP\n",
       "NW T31 Stop Tap Replacement with Boundary Box    73327\n",
       "NW T32 Communication Pipe Repair                 17878\n",
       "NW T34 Main Repair - Split Collar                13895\n",
       "NW T36 Main Repair - Cut piece                    7353\n",
       "NW T38 Mains Fitting                              5647\n",
       "NW T33 Customer Supply Pipe Repair                5123\n",
       "NW T35 Ferrule Repair                             2818\n",
       "NW T37 Fire Hydrant                                909\n",
       "Name: count, dtype: int64"
      ]
     },
     "execution_count": 8,
     "metadata": {},
     "output_type": "execute_result"
    }
   ],
   "source": [
    "repair_type_counts = repair_data['TUP'].value_counts()\n",
    "repair_type_counts"
   ]
  },
  {
   "cell_type": "code",
   "execution_count": 11,
   "id": "2a8f1b7e-14fd-4449-8b0e-1cf74000e2c8",
   "metadata": {},
   "outputs": [],
   "source": [
    "repair_type_df = repair_type_counts.reset_index()\n",
    "repair_type_df.columns = [\"Repair_Type\", \"Count\"]\n"
   ]
  },
  {
   "cell_type": "code",
   "execution_count": 12,
   "id": "e7e6f2b0-cab2-4562-a6f4-600e3cec5a2f",
   "metadata": {},
   "outputs": [
    {
     "data": {
      "text/html": [
       "<div>\n",
       "<style scoped>\n",
       "    .dataframe tbody tr th:only-of-type {\n",
       "        vertical-align: middle;\n",
       "    }\n",
       "\n",
       "    .dataframe tbody tr th {\n",
       "        vertical-align: top;\n",
       "    }\n",
       "\n",
       "    .dataframe thead th {\n",
       "        text-align: right;\n",
       "    }\n",
       "</style>\n",
       "<table border=\"1\" class=\"dataframe\">\n",
       "  <thead>\n",
       "    <tr style=\"text-align: right;\">\n",
       "      <th></th>\n",
       "      <th>Repair_Type</th>\n",
       "      <th>Count</th>\n",
       "      <th>Code</th>\n",
       "    </tr>\n",
       "  </thead>\n",
       "  <tbody>\n",
       "    <tr>\n",
       "      <th>0</th>\n",
       "      <td>NW T31 Stop Tap Replacement with Boundary Box</td>\n",
       "      <td>73327</td>\n",
       "      <td>1</td>\n",
       "    </tr>\n",
       "    <tr>\n",
       "      <th>1</th>\n",
       "      <td>NW T32 Communication Pipe Repair</td>\n",
       "      <td>17878</td>\n",
       "      <td>2</td>\n",
       "    </tr>\n",
       "    <tr>\n",
       "      <th>2</th>\n",
       "      <td>NW T34 Main Repair - Split Collar</td>\n",
       "      <td>13895</td>\n",
       "      <td>3</td>\n",
       "    </tr>\n",
       "    <tr>\n",
       "      <th>3</th>\n",
       "      <td>NW T36 Main Repair - Cut piece</td>\n",
       "      <td>7353</td>\n",
       "      <td>4</td>\n",
       "    </tr>\n",
       "    <tr>\n",
       "      <th>4</th>\n",
       "      <td>NW T38 Mains Fitting</td>\n",
       "      <td>5647</td>\n",
       "      <td>5</td>\n",
       "    </tr>\n",
       "    <tr>\n",
       "      <th>5</th>\n",
       "      <td>NW T33 Customer Supply Pipe Repair</td>\n",
       "      <td>5123</td>\n",
       "      <td>6</td>\n",
       "    </tr>\n",
       "    <tr>\n",
       "      <th>6</th>\n",
       "      <td>NW T35 Ferrule Repair</td>\n",
       "      <td>2818</td>\n",
       "      <td>7</td>\n",
       "    </tr>\n",
       "    <tr>\n",
       "      <th>7</th>\n",
       "      <td>NW T37 Fire Hydrant</td>\n",
       "      <td>909</td>\n",
       "      <td>8</td>\n",
       "    </tr>\n",
       "  </tbody>\n",
       "</table>\n",
       "</div>"
      ],
      "text/plain": [
       "                                     Repair_Type  Count  Code\n",
       "0  NW T31 Stop Tap Replacement with Boundary Box  73327     1\n",
       "1               NW T32 Communication Pipe Repair  17878     2\n",
       "2              NW T34 Main Repair - Split Collar  13895     3\n",
       "3                 NW T36 Main Repair - Cut piece   7353     4\n",
       "4                           NW T38 Mains Fitting   5647     5\n",
       "5             NW T33 Customer Supply Pipe Repair   5123     6\n",
       "6                          NW T35 Ferrule Repair   2818     7\n",
       "7                            NW T37 Fire Hydrant    909     8"
      ]
     },
     "execution_count": 12,
     "metadata": {},
     "output_type": "execute_result"
    }
   ],
   "source": [
    "repair_type_df[\"Code\"] = range(1, len(repair_type_df) + 1)\n",
    "repair_type_df"
   ]
  },
  {
   "cell_type": "code",
   "execution_count": 13,
   "id": "a9cb2283-a15b-4bd3-a76b-2703a88b82d9",
   "metadata": {},
   "outputs": [],
   "source": [
    "repair_type_df.to_csv(\"D:\\\\qing_research\\\\1_rainfall_water\\\\1_rainfall_water_network\\\\data\\\\repair\\\\repair_type.csv\", index=False)"
   ]
  },
  {
   "cell_type": "code",
   "execution_count": null,
   "id": "968f7e29-bb98-4fb8-a564-af7961221fa5",
   "metadata": {},
   "outputs": [],
   "source": []
  }
 ],
 "metadata": {
  "kernelspec": {
   "display_name": "Python 3 (ipykernel)",
   "language": "python",
   "name": "python3"
  },
  "language_info": {
   "codemirror_mode": {
    "name": "ipython",
    "version": 3
   },
   "file_extension": ".py",
   "mimetype": "text/x-python",
   "name": "python",
   "nbconvert_exporter": "python",
   "pygments_lexer": "ipython3",
   "version": "3.12.4"
  }
 },
 "nbformat": 4,
 "nbformat_minor": 5
}
