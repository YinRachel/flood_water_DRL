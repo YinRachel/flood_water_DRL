{
 "cells": [
  {
   "cell_type": "code",
   "execution_count": 1,
   "id": "ff68ed22-b9c8-4626-a061-e2d4844d47cd",
   "metadata": {},
   "outputs": [],
   "source": [
    "import pandas as pd\n",
    "from tqdm import tqdm\n",
    "import os\n",
    "import re"
   ]
  },
  {
   "cell_type": "code",
   "execution_count": 7,
   "id": "07a9cebc-9ea2-44b9-b6eb-0d1a69022b56",
   "metadata": {},
   "outputs": [],
   "source": [
    "data_path = r\"D:\\qing_research\\1_flood_water\\1_flood_water_network\\data\\Anglian_water\\Anglian Water data\\TSD\\30 day\\2023-08-30 - 30 Day Extract\\2023-08-30 - 30 Day Extract.csv\""
   ]
  },
  {
   "cell_type": "code",
   "execution_count": 8,
   "id": "45d56035-551e-45d7-950a-a8870aec0104",
   "metadata": {},
   "outputs": [
    {
     "data": {
      "text/html": [
       "<div>\n",
       "<style scoped>\n",
       "    .dataframe tbody tr th:only-of-type {\n",
       "        vertical-align: middle;\n",
       "    }\n",
       "\n",
       "    .dataframe tbody tr th {\n",
       "        vertical-align: top;\n",
       "    }\n",
       "\n",
       "    .dataframe thead th {\n",
       "        text-align: right;\n",
       "    }\n",
       "</style>\n",
       "<table border=\"1\" class=\"dataframe\">\n",
       "  <thead>\n",
       "    <tr style=\"text-align: right;\">\n",
       "      <th></th>\n",
       "      <th>Date/Time</th>\n",
       "      <th>DMA</th>\n",
       "      <th>DataSet</th>\n",
       "      <th>Flow(l/s)</th>\n",
       "    </tr>\n",
       "  </thead>\n",
       "  <tbody>\n",
       "    <tr>\n",
       "      <th>0</th>\n",
       "      <td>2023-08-02 23:00:00.0000000</td>\n",
       "      <td>AABOTTMA</td>\n",
       "      <td>BNF</td>\n",
       "      <td>1.700000</td>\n",
       "    </tr>\n",
       "    <tr>\n",
       "      <th>1</th>\n",
       "      <td>2023-08-02 23:15:00.0000000</td>\n",
       "      <td>AABOTTMA</td>\n",
       "      <td>BNF</td>\n",
       "      <td>1.766667</td>\n",
       "    </tr>\n",
       "    <tr>\n",
       "      <th>2</th>\n",
       "      <td>2023-08-02 23:30:00.0000000</td>\n",
       "      <td>AABOTTMA</td>\n",
       "      <td>BNF</td>\n",
       "      <td>1.855556</td>\n",
       "    </tr>\n",
       "    <tr>\n",
       "      <th>3</th>\n",
       "      <td>2023-08-02 23:45:00.0000000</td>\n",
       "      <td>AABOTTMA</td>\n",
       "      <td>BNF</td>\n",
       "      <td>1.788889</td>\n",
       "    </tr>\n",
       "    <tr>\n",
       "      <th>4</th>\n",
       "      <td>2023-08-03 00:00:00.0000000</td>\n",
       "      <td>AABOTTMA</td>\n",
       "      <td>BNF</td>\n",
       "      <td>1.744444</td>\n",
       "    </tr>\n",
       "  </tbody>\n",
       "</table>\n",
       "</div>"
      ],
      "text/plain": [
       "                     Date/Time       DMA DataSet  Flow(l/s)\n",
       "0  2023-08-02 23:00:00.0000000  AABOTTMA     BNF   1.700000\n",
       "1  2023-08-02 23:15:00.0000000  AABOTTMA     BNF   1.766667\n",
       "2  2023-08-02 23:30:00.0000000  AABOTTMA     BNF   1.855556\n",
       "3  2023-08-02 23:45:00.0000000  AABOTTMA     BNF   1.788889\n",
       "4  2023-08-03 00:00:00.0000000  AABOTTMA     BNF   1.744444"
      ]
     },
     "execution_count": 8,
     "metadata": {},
     "output_type": "execute_result"
    }
   ],
   "source": [
    "data = pd.read_csv(data_path)\n",
    "data.head()"
   ]
  },
  {
   "cell_type": "code",
   "execution_count": 9,
   "id": "b5a205ef-c7dd-460d-a2e7-d0e374f19ddf",
   "metadata": {},
   "outputs": [
    {
     "name": "stdout",
     "output_type": "stream",
     "text": [
      "2023-07-31 00:00:00,2023-08-29 22:45:00\n"
     ]
    }
   ],
   "source": [
    "data['Date/Time'] = pd.to_datetime(data['Date/Time'])\n",
    "start_date = data['Date/Time'].min().strftime('%Y-%m-%d %H:%M:%S')\n",
    "end_date = data['Date/Time'].max().strftime('%Y-%m-%d %H:%M:%S')\n",
    "print(f\"{start_date},{end_date}\")"
   ]
  },
  {
   "cell_type": "code",
   "execution_count": 10,
   "id": "db6e7f6d-b99f-41ad-a7b9-d617f861bd37",
   "metadata": {},
   "outputs": [],
   "source": [
    "next_data_path = r\"D:\\qing_research\\1_flood_water\\1_flood_water_network\\data\\Anglian_water\\Anglian Water data\\TSD\\30 day\\2023-09-04 - 30 Day Extract\\2023-09-04 - 30 Day Extract.csv\""
   ]
  },
  {
   "cell_type": "code",
   "execution_count": 11,
   "id": "2d0f1275-2048-4425-9bac-87961723a873",
   "metadata": {},
   "outputs": [
    {
     "name": "stdout",
     "output_type": "stream",
     "text": [
      "2023-08-05 00:00:00,2023-09-03 22:45:00\n"
     ]
    }
   ],
   "source": [
    "next_data = pd.read_csv(next_data_path)\n",
    "next_data['Date/Time'] = pd.to_datetime(next_data['Date/Time'])\n",
    "start_date = next_data['Date/Time'].min().strftime('%Y-%m-%d %H:%M:%S')\n",
    "end_date = next_data['Date/Time'].max().strftime('%Y-%m-%d %H:%M:%S')\n",
    "print(f\"{start_date},{end_date}\")"
   ]
  },
  {
   "cell_type": "code",
   "execution_count": null,
   "id": "68d8bc5e-9ef3-407a-bd95-48ef61c7ef81",
   "metadata": {},
   "outputs": [],
   "source": []
  }
 ],
 "metadata": {
  "kernelspec": {
   "display_name": "Python 3 (ipykernel)",
   "language": "python",
   "name": "python3"
  },
  "language_info": {
   "codemirror_mode": {
    "name": "ipython",
    "version": 3
   },
   "file_extension": ".py",
   "mimetype": "text/x-python",
   "name": "python",
   "nbconvert_exporter": "python",
   "pygments_lexer": "ipython3",
   "version": "3.12.7"
  }
 },
 "nbformat": 4,
 "nbformat_minor": 5
}
