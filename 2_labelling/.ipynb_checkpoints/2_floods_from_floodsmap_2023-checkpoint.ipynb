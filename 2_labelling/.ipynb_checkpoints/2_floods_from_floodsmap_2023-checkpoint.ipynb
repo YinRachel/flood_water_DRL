{
 "cells": [
  {
   "cell_type": "code",
   "execution_count": 35,
   "id": "25f4cdc4-f204-4390-b71c-16f035ca6c19",
   "metadata": {},
   "outputs": [],
   "source": [
    "import geopandas as gpd\n",
    "import numpy as np\n",
    "import pandas as pd"
   ]
  },
  {
   "cell_type": "code",
   "execution_count": 6,
   "id": "4829b835-6091-4ff7-8fa3-190c979e2022",
   "metadata": {},
   "outputs": [],
   "source": [
    "DMA_shp_path = r\"D:\\qing_research\\1_flood_water\\1_flood_water_network\\data\\Geo\\DMA\\DMA shape file\\DMA.shp\"\n",
    "floods_shp_2020_path = r\"D:\\qing_research\\1_flood_water\\1_flood_water_network\\data\\Geo\\flood\\1_extract_flood_inDMA\\flood_map\\2020.shp\""
   ]
  },
  {
   "cell_type": "code",
   "execution_count": 14,
   "id": "48b5cd6c-65fb-43a5-8dfa-8145bf014714",
   "metadata": {},
   "outputs": [],
   "source": [
    "DMA_shp = gpd.read_file(DMA_shp_path)\n",
    "floods_shp_2020 = gpd.read_file(floods_shp_2020_path)\n",
    "DMA_shp=DMA_shp.to_crs(epsg = 3857)\n",
    "floods_shp_2020 = floods_shp_2020.to_crs(epsg=3857)"
   ]
  },
  {
   "cell_type": "code",
   "execution_count": 18,
   "id": "f78924c2-3e71-4087-b09f-e754fd3000f4",
   "metadata": {},
   "outputs": [],
   "source": [
    "overlap_2020 = gpd.overlay(DMA_shp,floods_shp_2020,how='intersection')\n",
    "overlap_2020 = overlap_2020.drop_duplicates().reset_index(drop = True)"
   ]
  },
  {
   "cell_type": "code",
   "execution_count": 20,
   "id": "3133f573-d30b-4f58-873e-746990f11f8d",
   "metadata": {},
   "outputs": [
    {
     "data": {
      "text/plain": [
       "21"
      ]
     },
     "execution_count": 20,
     "metadata": {},
     "output_type": "execute_result"
    }
   ],
   "source": [
    "num_DMA = len(overlap_2020)\n",
    "num_DMA"
   ]
  },
  {
   "cell_type": "code",
   "execution_count": 22,
   "id": "4fca2c44-a64e-4484-8ddd-c7e6d9f70c11",
   "metadata": {},
   "outputs": [
    {
     "data": {
      "text/html": [
       "<div>\n",
       "<style scoped>\n",
       "    .dataframe tbody tr th:only-of-type {\n",
       "        vertical-align: middle;\n",
       "    }\n",
       "\n",
       "    .dataframe tbody tr th {\n",
       "        vertical-align: top;\n",
       "    }\n",
       "\n",
       "    .dataframe thead th {\n",
       "        text-align: right;\n",
       "    }\n",
       "</style>\n",
       "<table border=\"1\" class=\"dataframe\">\n",
       "  <thead>\n",
       "    <tr style=\"text-align: right;\">\n",
       "      <th></th>\n",
       "      <th>flood_id</th>\n",
       "      <th>dma_count</th>\n",
       "    </tr>\n",
       "  </thead>\n",
       "  <tbody>\n",
       "    <tr>\n",
       "      <th>0</th>\n",
       "      <td>8</td>\n",
       "      <td>1</td>\n",
       "    </tr>\n",
       "    <tr>\n",
       "      <th>1</th>\n",
       "      <td>59</td>\n",
       "      <td>1</td>\n",
       "    </tr>\n",
       "    <tr>\n",
       "      <th>2</th>\n",
       "      <td>228</td>\n",
       "      <td>4</td>\n",
       "    </tr>\n",
       "    <tr>\n",
       "      <th>3</th>\n",
       "      <td>229</td>\n",
       "      <td>3</td>\n",
       "    </tr>\n",
       "    <tr>\n",
       "      <th>4</th>\n",
       "      <td>328</td>\n",
       "      <td>3</td>\n",
       "    </tr>\n",
       "    <tr>\n",
       "      <th>5</th>\n",
       "      <td>329</td>\n",
       "      <td>2</td>\n",
       "    </tr>\n",
       "    <tr>\n",
       "      <th>6</th>\n",
       "      <td>330</td>\n",
       "      <td>1</td>\n",
       "    </tr>\n",
       "    <tr>\n",
       "      <th>7</th>\n",
       "      <td>331</td>\n",
       "      <td>1</td>\n",
       "    </tr>\n",
       "    <tr>\n",
       "      <th>8</th>\n",
       "      <td>332</td>\n",
       "      <td>1</td>\n",
       "    </tr>\n",
       "    <tr>\n",
       "      <th>9</th>\n",
       "      <td>333</td>\n",
       "      <td>1</td>\n",
       "    </tr>\n",
       "    <tr>\n",
       "      <th>10</th>\n",
       "      <td>334</td>\n",
       "      <td>1</td>\n",
       "    </tr>\n",
       "    <tr>\n",
       "      <th>11</th>\n",
       "      <td>335</td>\n",
       "      <td>1</td>\n",
       "    </tr>\n",
       "    <tr>\n",
       "      <th>12</th>\n",
       "      <td>336</td>\n",
       "      <td>1</td>\n",
       "    </tr>\n",
       "  </tbody>\n",
       "</table>\n",
       "</div>"
      ],
      "text/plain": [
       "    flood_id  dma_count\n",
       "0          8          1\n",
       "1         59          1\n",
       "2        228          4\n",
       "3        229          3\n",
       "4        328          3\n",
       "5        329          2\n",
       "6        330          1\n",
       "7        331          1\n",
       "8        332          1\n",
       "9        333          1\n",
       "10       334          1\n",
       "11       335          1\n",
       "12       336          1"
      ]
     },
     "execution_count": 22,
     "metadata": {},
     "output_type": "execute_result"
    }
   ],
   "source": [
    "DMA_counts = overlap_2020.groupby('flood_id').size().reset_index(name='dma_count')\n",
    "DMA_counts"
   ]
  },
  {
   "cell_type": "code",
   "execution_count": 24,
   "id": "c96b5bfd-6c49-49da-8f7f-1b6ec162712c",
   "metadata": {},
   "outputs": [
    {
     "data": {
      "text/plain": [
       "array([1, 2, 3, 4])"
      ]
     },
     "execution_count": 24,
     "metadata": {},
     "output_type": "execute_result"
    }
   ],
   "source": [
    "num_dma = np.arange(1,max(DMA_counts['dma_count'])+1)\n",
    "num_dma"
   ]
  },
  {
   "cell_type": "code",
   "execution_count": 55,
   "id": "551e62bd-722e-4c9f-a305-9a5ec2be2737",
   "metadata": {},
   "outputs": [],
   "source": [
    "dma_num_by_floods = DMA_counts.groupby('dma_count').size().reset_index(name='num_floods')\n",
    "# dma_num_by_floods['num_dma'] = np.arange(1,max(DMA_counts['dma_count'])+1)"
   ]
  },
  {
   "cell_type": "code",
   "execution_count": 56,
   "id": "984f4b87-425e-46fb-821b-e803aebe8df0",
   "metadata": {},
   "outputs": [
    {
     "data": {
      "text/html": [
       "<div>\n",
       "<style scoped>\n",
       "    .dataframe tbody tr th:only-of-type {\n",
       "        vertical-align: middle;\n",
       "    }\n",
       "\n",
       "    .dataframe tbody tr th {\n",
       "        vertical-align: top;\n",
       "    }\n",
       "\n",
       "    .dataframe thead th {\n",
       "        text-align: right;\n",
       "    }\n",
       "</style>\n",
       "<table border=\"1\" class=\"dataframe\">\n",
       "  <thead>\n",
       "    <tr style=\"text-align: right;\">\n",
       "      <th></th>\n",
       "      <th>dma_count</th>\n",
       "      <th>num_floods</th>\n",
       "    </tr>\n",
       "  </thead>\n",
       "  <tbody>\n",
       "    <tr>\n",
       "      <th>0</th>\n",
       "      <td>1</td>\n",
       "      <td>9</td>\n",
       "    </tr>\n",
       "    <tr>\n",
       "      <th>1</th>\n",
       "      <td>2</td>\n",
       "      <td>1</td>\n",
       "    </tr>\n",
       "    <tr>\n",
       "      <th>2</th>\n",
       "      <td>3</td>\n",
       "      <td>2</td>\n",
       "    </tr>\n",
       "    <tr>\n",
       "      <th>3</th>\n",
       "      <td>4</td>\n",
       "      <td>1</td>\n",
       "    </tr>\n",
       "  </tbody>\n",
       "</table>\n",
       "</div>"
      ],
      "text/plain": [
       "   dma_count  num_floods\n",
       "0          1           9\n",
       "1          2           1\n",
       "2          3           2\n",
       "3          4           1"
      ]
     },
     "execution_count": 56,
     "metadata": {},
     "output_type": "execute_result"
    }
   ],
   "source": [
    "dma_num_by_floods"
   ]
  },
  {
   "cell_type": "code",
   "execution_count": null,
   "id": "63f75e0e-5338-49d0-8441-a0619191963e",
   "metadata": {},
   "outputs": [],
   "source": []
  }
 ],
 "metadata": {
  "kernelspec": {
   "display_name": "Python 3 (ipykernel)",
   "language": "python",
   "name": "python3"
  },
  "language_info": {
   "codemirror_mode": {
    "name": "ipython",
    "version": 3
   },
   "file_extension": ".py",
   "mimetype": "text/x-python",
   "name": "python",
   "nbconvert_exporter": "python",
   "pygments_lexer": "ipython3",
   "version": "3.12.7"
  }
 },
 "nbformat": 4,
 "nbformat_minor": 5
}
