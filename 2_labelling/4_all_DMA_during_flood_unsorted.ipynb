{
 "cells": [
  {
   "cell_type": "code",
   "execution_count": 15,
   "id": "d182af5b-b75e-4f55-a385-af1d71470afe",
   "metadata": {},
   "outputs": [],
   "source": [
    "import pandas as pd\n",
    "import geopandas as gpd\n",
    "import os\n",
    "from datetime import datetime\n",
    "from tqdm import tqdm"
   ]
  },
  {
   "cell_type": "code",
   "execution_count": 2,
   "id": "c3e6f219-d1bb-47e0-a777-56cd4db06641",
   "metadata": {},
   "outputs": [],
   "source": [
    "flood_shp_2020 = r\"D:\\qing_research\\1_flood_water\\1_flood_water_network\\data\\Geo\\flood\\2_extract_flood_date_waterflow\\2020\\flood_shp_2020.shp\"\n",
    "flood_shp_2023 = r\"D:\\qing_research\\1_flood_water\\1_flood_water_network\\data\\Geo\\flood\\2_extract_flood_date_waterflow\\2023\\flood_shp_2023.shp\"\n",
    "flood_shp_2024 = r\"D:\\qing_research\\1_flood_water\\1_flood_water_network\\data\\Geo\\flood\\2_extract_flood_date_waterflow\\2024\\flood_shp_2024.shp\"\n",
    "output_dir = r\"D:\\qing_research\\1_flood_water\\1_flood_water_network\\data\\Geo\\flood\\3_extract_all_dma_in_flood\"\n",
    "water_flow_path = r\"D:\\qing_research\\1_flood_water\\1_flood_water_network\\data\\Anglian_water\\processed\\DMA_flow\""
   ]
  },
  {
   "cell_type": "code",
   "execution_count": 4,
   "id": "825fd683-652f-4e78-8db9-c2aedecfd8b4",
   "metadata": {},
   "outputs": [],
   "source": [
    "floods_2020 = gpd.read_file(flood_shp_2020)\n",
    "floods_2023 = gpd.read_file(flood_shp_2023)\n",
    "floods_2024 = gpd.read_file(flood_shp_2024)"
   ]
  },
  {
   "cell_type": "code",
   "execution_count": 6,
   "id": "875dfb30-4f6d-4320-8fbd-2a1a903d8d56",
   "metadata": {},
   "outputs": [],
   "source": [
    "floods_2020['start_date'] = pd.to_datetime(floods_2020['start_date'])\n",
    "floods_2020['end_date'] = pd.to_datetime(floods_2020['end_date'])\n",
    "floods_2023['start_date'] = pd.to_datetime(floods_2023['start_date'])\n",
    "floods_2023['end_date'] = pd.to_datetime(floods_2023['end_date'])\n",
    "floods_2024['start_date'] = pd.to_datetime(floods_2024['start_date'])\n",
    "floods_2024['end_date'] = pd.to_datetime(floods_2024['end_date'])"
   ]
  },
  {
   "cell_type": "code",
   "execution_count": 13,
   "id": "addd0712-58fb-4105-a36e-a39dd1f182d6",
   "metadata": {},
   "outputs": [],
   "source": [
    "start_date_str = \"2020-02-01\"\n",
    "end_date_str = \"2020-03-09\"\n",
    "start_date = datetime.strptime(start_date_str, '%Y-%m-%d')\n",
    "end_date = datetime.strptime(end_date_str, '%Y-%m-%d')"
   ]
  },
  {
   "cell_type": "code",
   "execution_count": 14,
   "id": "40b33d12-69ef-4001-9214-eb4b81974238",
   "metadata": {},
   "outputs": [],
   "source": [
    "output_path = os.path.join(output_dir,f\"{start_date.strftime('%Y%m%d')}_{end_date.strftime('%Y%m%d')}\")\n",
    "os.makedirs(output_path,exist_ok = True)"
   ]
  },
  {
   "cell_type": "code",
   "execution_count": 16,
   "id": "ef2673bd-dfe6-466b-aac0-9f9c5b732752",
   "metadata": {},
   "outputs": [
    {
     "name": "stderr",
     "output_type": "stream",
     "text": [
      "100%|██████████████████████████████████████████████████████████████████████████████| 2030/2030 [12:20<00:00,  2.74it/s]\n"
     ]
    }
   ],
   "source": [
    "for filename in tqdm(os.listdir(water_flow_path)):\n",
    "    if filename.endswith(\".csv\"):\n",
    "        dma_file_path = os.path.join(water_flow_path,filename)\n",
    "        dma_data = pd.read_csv(dma_file_path)\n",
    "        dma_data['Date_Time'] = pd.to_datetime(dma_data['Date_Time'])\n",
    "        extracted_data = dma_data[(dma_data['Date_Time']>=start_date) & (dma_data['Date_Time']<=end_date)]\n",
    "        output_file_name = filename\n",
    "        output_file_path = os.path.join(output_path, output_file_name)\n",
    "        extracted_data.to_csv(output_file_path,index=False)"
   ]
  },
  {
   "cell_type": "code",
   "execution_count": 17,
   "id": "62a8e9c8-6eec-4eea-84ba-ae42a93b01cd",
   "metadata": {},
   "outputs": [],
   "source": [
    "start_date_str = \"2020-12-16\"\n",
    "end_date_str = \"2021-1-13\"\n",
    "start_date = datetime.strptime(start_date_str, '%Y-%m-%d')\n",
    "end_date = datetime.strptime(end_date_str, '%Y-%m-%d')\n",
    "output_path = os.path.join(output_dir,f\"{start_date.strftime('%Y%m%d')}_{end_date.strftime('%Y%m%d')}\")\n",
    "os.makedirs(output_path,exist_ok = True)"
   ]
  },
  {
   "cell_type": "code",
   "execution_count": 18,
   "id": "c727cfae-382b-4f00-96e3-e8963d4331f9",
   "metadata": {},
   "outputs": [
    {
     "name": "stderr",
     "output_type": "stream",
     "text": [
      "100%|██████████████████████████████████████████████████████████████████████████████| 2030/2030 [12:26<00:00,  2.72it/s]\n"
     ]
    }
   ],
   "source": [
    "for filename in tqdm(os.listdir(water_flow_path)):\n",
    "    if filename.endswith(\".csv\"):\n",
    "        dma_file_path = os.path.join(water_flow_path,filename)\n",
    "        dma_data = pd.read_csv(dma_file_path)\n",
    "        dma_data['Date_Time'] = pd.to_datetime(dma_data['Date_Time'])\n",
    "        extracted_data = dma_data[(dma_data['Date_Time']>=start_date) & (dma_data['Date_Time']<=end_date)]\n",
    "        output_file_name = filename\n",
    "        output_file_path = os.path.join(output_path, output_file_name)\n",
    "        extracted_data.to_csv(output_file_path,index=False)"
   ]
  },
  {
   "cell_type": "code",
   "execution_count": 19,
   "id": "cd7f00aa-5ef5-47d8-930a-389ed02f701c",
   "metadata": {},
   "outputs": [],
   "source": [
    "start_date_str = \"2023-10-13\"\n",
    "end_date_str = \"2023-11-6\"\n",
    "start_date = datetime.strptime(start_date_str, '%Y-%m-%d')\n",
    "end_date = datetime.strptime(end_date_str, '%Y-%m-%d')\n",
    "output_path = os.path.join(output_dir,f\"{start_date.strftime('%Y%m%d')}_{end_date.strftime('%Y%m%d')}\")\n",
    "os.makedirs(output_path,exist_ok = True)"
   ]
  },
  {
   "cell_type": "code",
   "execution_count": 20,
   "id": "845392fb-89af-4a9e-beed-37fda4019605",
   "metadata": {},
   "outputs": [
    {
     "name": "stderr",
     "output_type": "stream",
     "text": [
      "100%|██████████████████████████████████████████████████████████████████████████████| 2030/2030 [13:15<00:00,  2.55it/s]\n"
     ]
    }
   ],
   "source": [
    "for filename in tqdm(os.listdir(water_flow_path)):\n",
    "    if filename.endswith(\".csv\"):\n",
    "        dma_file_path = os.path.join(water_flow_path,filename)\n",
    "        dma_data = pd.read_csv(dma_file_path)\n",
    "        dma_data['Date_Time'] = pd.to_datetime(dma_data['Date_Time'])\n",
    "        extracted_data = dma_data[(dma_data['Date_Time']>=start_date) & (dma_data['Date_Time']<=end_date)]\n",
    "        output_file_name = filename\n",
    "        output_file_path = os.path.join(output_path, output_file_name)\n",
    "        extracted_data.to_csv(output_file_path,index=False)"
   ]
  },
  {
   "cell_type": "code",
   "execution_count": 21,
   "id": "84b5dfbb-747a-4abd-aef7-9ff9b1d47e83",
   "metadata": {},
   "outputs": [],
   "source": [
    "start_date_str = \"2023-12-26\"\n",
    "end_date_str = \"2024-1-23\"\n",
    "start_date = datetime.strptime(start_date_str, '%Y-%m-%d')\n",
    "end_date = datetime.strptime(end_date_str, '%Y-%m-%d')\n",
    "output_path = os.path.join(output_dir,f\"{start_date.strftime('%Y%m%d')}_{end_date.strftime('%Y%m%d')}\")\n",
    "os.makedirs(output_path,exist_ok = True)"
   ]
  },
  {
   "cell_type": "code",
   "execution_count": 22,
   "id": "d1de81a8-3ecb-468f-8807-da1b92bde296",
   "metadata": {},
   "outputs": [
    {
     "name": "stderr",
     "output_type": "stream",
     "text": [
      "100%|██████████████████████████████████████████████████████████████████████████████| 2030/2030 [13:09<00:00,  2.57it/s]\n"
     ]
    }
   ],
   "source": [
    "for filename in tqdm(os.listdir(water_flow_path)):\n",
    "    if filename.endswith(\".csv\"):\n",
    "        dma_file_path = os.path.join(water_flow_path,filename)\n",
    "        dma_data = pd.read_csv(dma_file_path)\n",
    "        dma_data['Date_Time'] = pd.to_datetime(dma_data['Date_Time'])\n",
    "        extracted_data = dma_data[(dma_data['Date_Time']>=start_date) & (dma_data['Date_Time']<=end_date)]\n",
    "        output_file_name = filename\n",
    "        output_file_path = os.path.join(output_path, output_file_name)\n",
    "        extracted_data.to_csv(output_file_path,index=False)"
   ]
  }
 ],
 "metadata": {
  "kernelspec": {
   "display_name": "Python (my_env)",
   "language": "python",
   "name": "my_env"
  },
  "language_info": {
   "codemirror_mode": {
    "name": "ipython",
    "version": 3
   },
   "file_extension": ".py",
   "mimetype": "text/x-python",
   "name": "python",
   "nbconvert_exporter": "python",
   "pygments_lexer": "ipython3",
   "version": "3.12.3"
  }
 },
 "nbformat": 4,
 "nbformat_minor": 5
}
