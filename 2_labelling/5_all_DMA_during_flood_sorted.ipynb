{
 "cells": [
  {
   "cell_type": "code",
   "execution_count": 1,
   "id": "d182af5b-b75e-4f55-a385-af1d71470afe",
   "metadata": {},
   "outputs": [],
   "source": [
    "import pandas as pd\n",
    "import geopandas as gpd\n",
    "import os\n",
    "from datetime import datetime\n",
    "from tqdm import tqdm"
   ]
  },
  {
   "cell_type": "code",
   "execution_count": 2,
   "id": "c3e6f219-d1bb-47e0-a777-56cd4db06641",
   "metadata": {},
   "outputs": [],
   "source": [
    "flood_shp_2020 = r\"D:\\qing_research\\1_flood_water\\1_flood_water_network\\data\\Geo\\flood\\2_extract_flood_date_waterflow\\2020\\flood_shp_2020.shp\"\n",
    "flood_shp_2023 = r\"D:\\qing_research\\1_flood_water\\1_flood_water_network\\data\\Geo\\flood\\2_extract_flood_date_waterflow\\2023\\flood_shp_2023.shp\"\n",
    "flood_shp_2024 = r\"D:\\qing_research\\1_flood_water\\1_flood_water_network\\data\\Geo\\flood\\2_extract_flood_date_waterflow\\2024\\flood_shp_2024.shp\"\n",
    "output_dir = r\"D:\\qing_research\\1_flood_water\\1_flood_water_network\\data\\Geo\\flood\\3_extract_all_dma_in_flood_sorted\"\n",
    "water_flow_path = r\"D:\\qing_research\\1_flood_water\\1_flood_water_network\\data\\Anglian_water\\processed\\Sorted\\Sorted\""
   ]
  },
  {
   "cell_type": "code",
   "execution_count": 3,
   "id": "825fd683-652f-4e78-8db9-c2aedecfd8b4",
   "metadata": {},
   "outputs": [],
   "source": [
    "floods_2020 = gpd.read_file(flood_shp_2020)\n",
    "floods_2023 = gpd.read_file(flood_shp_2023)\n",
    "floods_2024 = gpd.read_file(flood_shp_2024)"
   ]
  },
  {
   "cell_type": "code",
   "execution_count": 4,
   "id": "875dfb30-4f6d-4320-8fbd-2a1a903d8d56",
   "metadata": {},
   "outputs": [],
   "source": [
    "floods_2020['start_date'] = pd.to_datetime(floods_2020['start_date'])\n",
    "floods_2020['end_date'] = pd.to_datetime(floods_2020['end_date'])\n",
    "floods_2023['start_date'] = pd.to_datetime(floods_2023['start_date'])\n",
    "floods_2023['end_date'] = pd.to_datetime(floods_2023['end_date'])\n",
    "floods_2024['start_date'] = pd.to_datetime(floods_2024['start_date'])\n",
    "floods_2024['end_date'] = pd.to_datetime(floods_2024['end_date'])"
   ]
  },
  {
   "cell_type": "code",
   "execution_count": 5,
   "id": "addd0712-58fb-4105-a36e-a39dd1f182d6",
   "metadata": {},
   "outputs": [],
   "source": [
    "start_date_str = \"2020-02-01\"\n",
    "end_date_str = \"2020-03-09\"\n",
    "start_date = datetime.strptime(start_date_str, '%Y-%m-%d')\n",
    "end_date = datetime.strptime(end_date_str, '%Y-%m-%d')"
   ]
  },
  {
   "cell_type": "code",
   "execution_count": 6,
   "id": "40b33d12-69ef-4001-9214-eb4b81974238",
   "metadata": {},
   "outputs": [],
   "source": [
    "output_path = os.path.join(output_dir,f\"{start_date.strftime('%Y%m%d')}_{end_date.strftime('%Y%m%d')}\")\n",
    "os.makedirs(output_path,exist_ok = True)"
   ]
  },
  {
   "cell_type": "code",
   "execution_count": 8,
   "id": "ef2673bd-dfe6-466b-aac0-9f9c5b732752",
   "metadata": {},
   "outputs": [
    {
     "name": "stderr",
     "output_type": "stream",
     "text": [
      "100%|██████████████████████████████████████████████████████████████████████████████| 2030/2030 [22:47<00:00,  1.48it/s]\n"
     ]
    }
   ],
   "source": [
    "for filename in tqdm(os.listdir(water_flow_path)):\n",
    "    if filename.endswith(\".csv\"):\n",
    "        dma_file_path = os.path.join(water_flow_path,filename)\n",
    "        dma_data = pd.read_csv(dma_file_path)\n",
    "        dma_data['Time'] = pd.to_datetime(dma_data['Time'])\n",
    "        extracted_data = dma_data[(dma_data['Time']>=start_date) & (dma_data['Time']<=end_date)]\n",
    "        output_file_name = filename\n",
    "        output_file_path = os.path.join(output_path, output_file_name)\n",
    "        extracted_data.to_csv(output_file_path,index=False)"
   ]
  },
  {
   "cell_type": "code",
   "execution_count": 9,
   "id": "62a8e9c8-6eec-4eea-84ba-ae42a93b01cd",
   "metadata": {},
   "outputs": [],
   "source": [
    "start_date_str = \"2020-12-16\"\n",
    "end_date_str = \"2021-1-13\"\n",
    "start_date = datetime.strptime(start_date_str, '%Y-%m-%d')\n",
    "end_date = datetime.strptime(end_date_str, '%Y-%m-%d')\n",
    "output_path = os.path.join(output_dir,f\"{start_date.strftime('%Y%m%d')}_{end_date.strftime('%Y%m%d')}\")\n",
    "os.makedirs(output_path,exist_ok = True)"
   ]
  },
  {
   "cell_type": "code",
   "execution_count": 10,
   "id": "c727cfae-382b-4f00-96e3-e8963d4331f9",
   "metadata": {},
   "outputs": [
    {
     "name": "stderr",
     "output_type": "stream",
     "text": [
      "100%|██████████████████████████████████████████████████████████████████████████████| 2030/2030 [20:31<00:00,  1.65it/s]\n"
     ]
    }
   ],
   "source": [
    "for filename in tqdm(os.listdir(water_flow_path)):\n",
    "    if filename.endswith(\".csv\"):\n",
    "        dma_file_path = os.path.join(water_flow_path,filename)\n",
    "        dma_data = pd.read_csv(dma_file_path)\n",
    "        dma_data['Time'] = pd.to_datetime(dma_data['Time'])\n",
    "        extracted_data = dma_data[(dma_data['Time']>=start_date) & (dma_data['Time']<=end_date)]\n",
    "        output_file_name = filename\n",
    "        output_file_path = os.path.join(output_path, output_file_name)\n",
    "        extracted_data.to_csv(output_file_path,index=False)"
   ]
  },
  {
   "cell_type": "code",
   "execution_count": 11,
   "id": "19ee8b19-208e-4c30-80cc-e2d8f2889153",
   "metadata": {},
   "outputs": [],
   "source": [
    "start_date_str = \"2023-10-13\"\n",
    "end_date_str = \"2023-11-6\"\n",
    "start_date = datetime.strptime(start_date_str, '%Y-%m-%d')\n",
    "end_date = datetime.strptime(end_date_str, '%Y-%m-%d')\n",
    "output_path = os.path.join(output_dir,f\"{start_date.strftime('%Y%m%d')}_{end_date.strftime('%Y%m%d')}\")\n",
    "os.makedirs(output_path,exist_ok = True)"
   ]
  },
  {
   "cell_type": "code",
   "execution_count": 12,
   "id": "d1de81a8-3ecb-468f-8807-da1b92bde296",
   "metadata": {},
   "outputs": [
    {
     "name": "stderr",
     "output_type": "stream",
     "text": [
      "100%|██████████████████████████████████████████████████████████████████████████████| 2030/2030 [22:22<00:00,  1.51it/s]\n"
     ]
    }
   ],
   "source": [
    "for filename in tqdm(os.listdir(water_flow_path)):\n",
    "    if filename.endswith(\".csv\"):\n",
    "        dma_file_path = os.path.join(water_flow_path,filename)\n",
    "        dma_data = pd.read_csv(dma_file_path)\n",
    "        dma_data['Time'] = pd.to_datetime(dma_data['Time'])\n",
    "        extracted_data = dma_data[(dma_data['Time']>=start_date) & (dma_data['Time']<=end_date)]\n",
    "        output_file_name = filename\n",
    "        output_file_path = os.path.join(output_path, output_file_name)\n",
    "        extracted_data.to_csv(output_file_path,index=False)"
   ]
  },
  {
   "cell_type": "code",
   "execution_count": null,
   "id": "646c7fc3-e855-42ff-b052-fafbf7d9f908",
   "metadata": {},
   "outputs": [],
   "source": [
    "start_date_str = \"2023-12-26\"\n",
    "end_date_str = \"2024-1-23\"\n",
    "start_date = datetime.strptime(start_date_str, '%Y-%m-%d')\n",
    "end_date = datetime.strptime(end_date_str, '%Y-%m-%d')\n",
    "output_path = os.path.join(output_dir,f\"{start_date.strftime('%Y%m%d')}_{end_date.strftime('%Y%m%d')}\")\n",
    "os.makedirs(output_path,exist_ok = True)"
   ]
  },
  {
   "cell_type": "code",
   "execution_count": null,
   "id": "bd1a6406-fe54-43b6-b9b6-fc78a0fd0d36",
   "metadata": {},
   "outputs": [],
   "source": [
    "for filename in tqdm(os.listdir(water_flow_path)):\n",
    "    if filename.endswith(\".csv\"):\n",
    "        dma_file_path = os.path.join(water_flow_path,filename)\n",
    "        dma_data = pd.read_csv(dma_file_path)\n",
    "        dma_data['Time'] = pd.to_datetime(dma_data['Time'])\n",
    "        extracted_data = dma_data[(dma_data['Time']>=start_date) & (dma_data['Time']<=end_date)]\n",
    "        output_file_name = filename\n",
    "        output_file_path = os.path.join(output_path, output_file_name)\n",
    "        extracted_data.to_csv(output_file_path,index=False)"
   ]
  }
 ],
 "metadata": {
  "kernelspec": {
   "display_name": "Python (my_env)",
   "language": "python",
   "name": "my_env"
  },
  "language_info": {
   "codemirror_mode": {
    "name": "ipython",
    "version": 3
   },
   "file_extension": ".py",
   "mimetype": "text/x-python",
   "name": "python",
   "nbconvert_exporter": "python",
   "pygments_lexer": "ipython3",
   "version": "3.12.3"
  }
 },
 "nbformat": 4,
 "nbformat_minor": 5
}
